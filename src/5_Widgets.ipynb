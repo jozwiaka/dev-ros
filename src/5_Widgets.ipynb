{
 "cells": [
  {
   "cell_type": "markdown",
   "metadata": {},
   "source": [
    "# Widgets\n",
    "- Są to obiekty w Pythonie reagujące na zdarzenia i umożliwiające obsługę różnych popularnych kontrolek w przeglądarce. Wykorzystane zostaną do utworzenia prostego GUI do obsługi robota."
   ]
  },
  {
   "cell_type": "code",
   "execution_count": 6,
   "metadata": {},
   "outputs": [],
   "source": [
    "import ipywidgets as widgets"
   ]
  },
  {
   "cell_type": "code",
   "execution_count": 7,
   "metadata": {},
   "outputs": [],
   "source": [
    "import rospy\n",
    "from geometry_msgs.msg import Twist"
   ]
  },
  {
   "cell_type": "code",
   "execution_count": 8,
   "metadata": {},
   "outputs": [],
   "source": [
    "rospy.init_node(\"widgets_controller\")"
   ]
  },
  {
   "cell_type": "markdown",
   "metadata": {},
   "source": [
    "- Na zajęciach w których omawiany był Publisher wysyłanie prędkości sterujących odbywało się w następuący sposób:"
   ]
  },
  {
   "cell_type": "code",
   "execution_count": 9,
   "metadata": {},
   "outputs": [],
   "source": [
    "twist_publisher= rospy.Publisher(\"/turtle1/cmd_vel\",Twist,queue_size=10)\n",
    "\n",
    "some_message=Twist()\n",
    "some_message.angular.z=1\n",
    "some_message.linear.x=10\n",
    "\n",
    "twist_publisher.publish(some_message)"
   ]
  },
  {
   "cell_type": "code",
   "execution_count": 10,
   "metadata": {},
   "outputs": [],
   "source": [
    "def move_robot(forward_vel=5,rotation_vel=5):\n",
    "    '''A function to move turtle from turtlesim simulation\n",
    "    \n",
    "    Args:\n",
    "        forward_vel (float): Linear velocity\n",
    "        rotation_vel (float): Angular velocity'''\n",
    "    message=Twist()\n",
    "    message.angular.z=rotation_vel\n",
    "    message.linear.x=forward_vel\n",
    "    \n",
    "    \n",
    "    twist_publisher.publish(message)"
   ]
  },
  {
   "cell_type": "code",
   "execution_count": 11,
   "metadata": {},
   "outputs": [],
   "source": [
    "move_robot(1,-1)"
   ]
  },
  {
   "cell_type": "markdown",
   "metadata": {},
   "source": [
    "# 1 ) Slider"
   ]
  },
  {
   "cell_type": "markdown",
   "metadata": {},
   "source": [
    "- Jak widać zmiana prędkości odbywa się poprzez ręczne wprowadzenie wartośi i wywołanie funkcji. Z punktu widzenia użytkownika oczekiwałby on, aby mógł sterować robotem przy pomocy kontrolek. Wykorzystamy funkcję **move_robot** do utworzenia domyślnego widgetu sterującego prędkościami robota. Każda zmiana wartości kontrolki powoduje wywołanie funkcji **move_robot** i wysłanie odczytanych prędkości z kontrolek."
   ]
  },
  {
   "cell_type": "code",
   "execution_count": 51,
   "metadata": {},
   "outputs": [
    {
     "data": {
      "application/vnd.jupyter.widget-view+json": {
       "model_id": "47a594b736f44876ba6baf053e96580d",
       "version_major": 2,
       "version_minor": 0
      },
      "text/plain": [
       "interactive(children=(IntSlider(value=5, description='forward_vel', max=15, min=-5), IntSlider(value=5, descri…"
      ]
     },
     "metadata": {},
     "output_type": "display_data"
    },
    {
     "data": {
      "text/plain": [
       "<function __main__.move_robot(forward_vel=5, rotation_vel=5)>"
      ]
     },
     "execution_count": 51,
     "metadata": {},
     "output_type": "execute_result"
    }
   ],
   "source": [
    "widgets.interact(move_robot)"
   ]
  },
  {
   "cell_type": "markdown",
   "metadata": {},
   "source": [
    "- Można również zdefiniować własne kontrolki. Poniżej przykład z użyciem **FloatSlider** dla, którego ustawiane są wartości minimalne, maksymalne, krok zmiany oraz wartość początkowa. Jako pierwszy argument podawana jest nazwa funkcji, która ma zostać wywołana. Dla argumentów jakie przyjmuje funkcja *move_turtle* utworzone zostały odpowiednie slidery."
   ]
  },
  {
   "cell_type": "code",
   "execution_count": 52,
   "metadata": {},
   "outputs": [
    {
     "data": {
      "application/vnd.jupyter.widget-view+json": {
       "model_id": "6116acd0cdf946029083a74c93e67df1",
       "version_major": 2,
       "version_minor": 0
      },
      "text/plain": [
       "interactive(children=(FloatSlider(value=0.0, description='forward_vel', max=10.0, min=-10.0, step=2.0), FloatS…"
      ]
     },
     "metadata": {},
     "output_type": "display_data"
    },
    {
     "data": {
      "text/plain": [
       "<function __main__.move_robot(forward_vel=5, rotation_vel=5)>"
      ]
     },
     "execution_count": 52,
     "metadata": {},
     "output_type": "execute_result"
    }
   ],
   "source": [
    "widgets.interact(move_robot,\n",
    "                 forward_vel=widgets.FloatSlider(min=-10,max=10,step=2,value=0),\n",
    "                 rotation_vel=widgets.FloatSlider(min=-3,max=3,value=0))"
   ]
  },
  {
   "cell_type": "markdown",
   "metadata": {},
   "source": [
    "#### Zadanie 1\n",
    "Utworzyć slidery do zmiany koloru tła\n",
    "1. Zaimportować odpowiednie biblioteki dla sersicu /clear\n",
    "2. Utworzyć funkcję set_color przyjmującą 3 argumeny koloru, która ustawia odpowiednie wartości parametrów koloru tła. Było na zajęciach z ROS Parameter Server.\n",
    "3. Wyczyścić serwisem */clear* tło mapy, aby możliwa była aktualizacja koloru.\n",
    "4. Utworzyć widget z 3 sliderami ustawiającymi kolor.\n"
   ]
  },
  {
   "cell_type": "code",
   "execution_count": 18,
   "metadata": {},
   "outputs": [],
   "source": [
    "from std_srvs.srv import Empty"
   ]
  },
  {
   "cell_type": "code",
   "execution_count": 19,
   "metadata": {},
   "outputs": [],
   "source": [
    "def set_color(r=0,g=0,b=255):\n",
    "    rospy.set_param(\"turtlesim/background_r\", r)\n",
    "    rospy.set_param(\"turtlesim/background_g\", g)\n",
    "    rospy.set_param(\"turtlesim/background_b\", b)\n",
    "    !rosservice call /clear"
   ]
  },
  {
   "cell_type": "code",
   "execution_count": 21,
   "metadata": {},
   "outputs": [
    {
     "data": {
      "application/vnd.jupyter.widget-view+json": {
       "model_id": "2413928541444c8ea1c2b8817752a298",
       "version_major": 2,
       "version_minor": 0
      },
      "text/plain": [
       "interactive(children=(FloatSlider(value=0.0, description='r', max=255.0, step=2.0), FloatSlider(value=0.0, des…"
      ]
     },
     "metadata": {},
     "output_type": "display_data"
    },
    {
     "data": {
      "text/plain": [
       "<function __main__.set_color(r=0, g=0, b=255)>"
      ]
     },
     "execution_count": 21,
     "metadata": {},
     "output_type": "execute_result"
    }
   ],
   "source": [
    "widgets.interact(set_color,\n",
    "                 r=widgets.FloatSlider(min=0,max=255,step=2,value=0),\n",
    "                 g=widgets.FloatSlider(min=0,max=255,step=2,value=0),\n",
    "                 b=widgets.FloatSlider(min=0,max=255,step=2,value=0))"
   ]
  },
  {
   "cell_type": "code",
   "execution_count": 23,
   "metadata": {},
   "outputs": [
    {
     "data": {
      "application/vnd.jupyter.widget-view+json": {
       "model_id": "24f1ae0431554f038ddbde34dc1617ee",
       "version_major": 2,
       "version_minor": 0
      },
      "text/plain": [
       "interactive(children=(ColorPicker(value='black', concise=True, description='rgb'), Output()), _dom_classes=('w…"
      ]
     },
     "metadata": {},
     "output_type": "display_data"
    }
   ],
   "source": [
    "import matplotlib\n",
    "\n",
    "@widgets.interact(rgb = widgets.ColorPicker(concise=True))\n",
    "def kolor_tla(rgb):\n",
    "    if rgb[0] != \"#\": #name of color\n",
    "        rgb = matplotlib.colors.cnames[rgb]\n",
    "    rgb = rgb.lstrip('#')\n",
    "    r,g,b = tuple(int(rgb[i:i+2],16) for i in (0,2,4))\n",
    "    print(r,g,b)"
   ]
  },
  {
   "cell_type": "markdown",
   "metadata": {},
   "source": [
    "# 2) Textbox\n",
    "- Teraz czas na wysłanie dowolnej informacji na topicu **/informacja**. Skorzystanie z kontrolki do wprowadzania tekstu spowoduje, że każde wprowadzenie nowego znaku wyśle wiadomość. W terminalu można podejrzeć informację na tym topicu.\n",
    "\n",
    "*rostopic echo /informacja*\n",
    "\n",
    "Oto przykład:"
   ]
  },
  {
   "cell_type": "code",
   "execution_count": 12,
   "metadata": {},
   "outputs": [],
   "source": [
    "from std_msgs.msg import String\n",
    "def send_msg(wiadomosc):\n",
    "    pub_info = pub_speed=rospy.Publisher(\"/informacja\",String,queue_size=10)\n",
    "    msg_info = String()\n",
    "    msg_info.data = wiadomosc\n",
    "    pub_info.publish(msg_info)"
   ]
  },
  {
   "cell_type": "code",
   "execution_count": 13,
   "metadata": {},
   "outputs": [
    {
     "data": {
      "application/vnd.jupyter.widget-view+json": {
       "model_id": "2a20b0d84059446da1c350cfdd3dfdaf",
       "version_major": 2,
       "version_minor": 0
      },
      "text/plain": [
       "interactive(children=(Text(value='Hello World!', description='wiadomosc'), Output()), _dom_classes=('widget-in…"
      ]
     },
     "metadata": {},
     "output_type": "display_data"
    },
    {
     "data": {
      "text/plain": [
       "<function __main__.send_msg(wiadomosc)>"
      ]
     },
     "execution_count": 13,
     "metadata": {},
     "output_type": "execute_result"
    }
   ],
   "source": [
    "widgets.interact(send_msg,\n",
    "                    wiadomosc=widgets.Text(value='Hello World!'))"
   ]
  },
  {
   "cell_type": "markdown",
   "metadata": {},
   "source": [
    "# 3) Button"
   ]
  },
  {
   "cell_type": "markdown",
   "metadata": {},
   "source": [
    "# 3.1)\n",
    "- Jeśli chcielibyśmy wysłać dowolną informację po zakończeniu jej wprowadzania przydadlby się przycisk *wyślij* odpowiedzialny za przekazanie informacji.\n"
   ]
  },
  {
   "cell_type": "code",
   "execution_count": 59,
   "metadata": {},
   "outputs": [
    {
     "data": {
      "application/vnd.jupyter.widget-view+json": {
       "model_id": "7a105d9fc61041cab2cabc7b90006b10",
       "version_major": 2,
       "version_minor": 0
      },
      "text/plain": [
       "ToggleButton(value=False, button_style='warning', description='Click me', icon='check', tooltip='Description')"
      ]
     },
     "metadata": {},
     "output_type": "display_data"
    }
   ],
   "source": [
    "widgets.ToggleButton(\n",
    "    value=False,\n",
    "    description='Click me',\n",
    "    disabled=False,\n",
    "    button_style='warning', # 'success', 'info', 'warning', 'danger' or ''\n",
    "    tooltip='Description',\n",
    "    icon='check' # (FontAwesome names without the `fa-` prefix)\n",
    ")"
   ]
  },
  {
   "cell_type": "markdown",
   "metadata": {},
   "source": [
    "# 3.2)"
   ]
  },
  {
   "cell_type": "code",
   "execution_count": 31,
   "metadata": {
    "scrolled": true
   },
   "outputs": [
    {
     "data": {
      "application/vnd.jupyter.widget-view+json": {
       "model_id": "fd2848d3b33e4b5595051be67f013f80",
       "version_major": 2,
       "version_minor": 0
      },
      "text/plain": [
       "Text(value='Hello World!', description='informacja:')"
      ]
     },
     "metadata": {},
     "output_type": "display_data"
    }
   ],
   "source": [
    "input_text = widgets.Text(value='Hello World!', disabled=False, description=\"informacja:\") #kontrolka\n",
    "display(input_text)"
   ]
  },
  {
   "cell_type": "code",
   "execution_count": 32,
   "metadata": {},
   "outputs": [],
   "source": [
    "from std_msgs.msg import String\n",
    "def send_msg(button_data):\n",
    "    pub_info = rospy.Publisher(\"/informacja\",String,queue_size=10)\n",
    "    msg_info = String()\n",
    "    msg_info.data = str(input_text.value)\n",
    "    pub_info.publish(msg_info)"
   ]
  },
  {
   "cell_type": "code",
   "execution_count": 33,
   "metadata": {},
   "outputs": [
    {
     "data": {
      "application/vnd.jupyter.widget-view+json": {
       "model_id": "3838cc5eefe34ad28cc35b09687ba5c6",
       "version_major": 2,
       "version_minor": 0
      },
      "text/plain": [
       "Button(description='wyslij', icon='check', style=ButtonStyle(), tooltip='Description')"
      ]
     },
     "metadata": {},
     "output_type": "display_data"
    },
    {
     "name": "stderr",
     "output_type": "stream",
     "text": [
      "[ERROR] [1619455243.735771]: bad callback: <function zmien_output at 0x7f2361c73160>\n",
      "Traceback (most recent call last):\n",
      "  File \"/opt/ros/noetic/lib/python3/dist-packages/rospy/topics.py\", line 750, in _invoke_callback\n",
      "    cb(msg)\n",
      "  File \"<ipython-input-21-36c6af7ba19d>\", line 2, in zmien_output\n",
      "    output_tekst.value=wiadomosc.data\n",
      "NameError: name 'output_tekst' is not defined\n",
      "\n",
      "[ERROR] [1619455243.749388]: bad callback: <function zmien_output at 0x7f2348e89b80>\n",
      "Traceback (most recent call last):\n",
      "  File \"/opt/ros/noetic/lib/python3/dist-packages/rospy/topics.py\", line 750, in _invoke_callback\n",
      "    cb(msg)\n",
      "  File \"<ipython-input-24-36c6af7ba19d>\", line 2, in zmien_output\n",
      "    output_tekst.value=wiadomosc.data\n",
      "NameError: name 'output_tekst' is not defined\n",
      "\n",
      "[ERROR] [1619455395.414996]: bad callback: <function zmien_output at 0x7f2361c73160>\n",
      "Traceback (most recent call last):\n",
      "  File \"/opt/ros/noetic/lib/python3/dist-packages/rospy/topics.py\", line 750, in _invoke_callback\n",
      "    cb(msg)\n",
      "  File \"<ipython-input-21-36c6af7ba19d>\", line 2, in zmien_output\n",
      "    output_tekst.value=wiadomosc.data\n",
      "NameError: name 'output_tekst' is not defined\n",
      "\n",
      "[ERROR] [1619455395.427643]: bad callback: <function zmien_output at 0x7f2348e89b80>\n",
      "Traceback (most recent call last):\n",
      "  File \"/opt/ros/noetic/lib/python3/dist-packages/rospy/topics.py\", line 750, in _invoke_callback\n",
      "    cb(msg)\n",
      "  File \"<ipython-input-24-36c6af7ba19d>\", line 2, in zmien_output\n",
      "    output_tekst.value=wiadomosc.data\n",
      "NameError: name 'output_tekst' is not defined\n",
      "\n",
      "[ERROR] [1619455397.045671]: bad callback: <function zmien_output at 0x7f2361c73160>\n",
      "Traceback (most recent call last):\n",
      "  File \"/opt/ros/noetic/lib/python3/dist-packages/rospy/topics.py\", line 750, in _invoke_callback\n",
      "    cb(msg)\n",
      "  File \"<ipython-input-21-36c6af7ba19d>\", line 2, in zmien_output\n",
      "    output_tekst.value=wiadomosc.data\n",
      "NameError: name 'output_tekst' is not defined\n",
      "\n",
      "[ERROR] [1619455397.052370]: bad callback: <function zmien_output at 0x7f2348e89b80>\n",
      "Traceback (most recent call last):\n",
      "  File \"/opt/ros/noetic/lib/python3/dist-packages/rospy/topics.py\", line 750, in _invoke_callback\n",
      "    cb(msg)\n",
      "  File \"<ipython-input-24-36c6af7ba19d>\", line 2, in zmien_output\n",
      "    output_tekst.value=wiadomosc.data\n",
      "NameError: name 'output_tekst' is not defined\n",
      "\n"
     ]
    }
   ],
   "source": [
    "przycisk_wyslij = widgets.Button(\n",
    "    value=False,\n",
    "    description='wyslij',\n",
    "    disabled=False,\n",
    "    button_style='', # 'success', 'info', 'warning', 'danger' or ''\n",
    "    tooltip='Description',\n",
    "    icon='check' # (FontAwesome names without the `fa-` prefix)\n",
    ")\n",
    "przycisk_wyslij.on_click(send_msg)\n",
    "display(przycisk_wyslij)"
   ]
  },
  {
   "cell_type": "markdown",
   "metadata": {},
   "source": [
    "- Odbior:"
   ]
  },
  {
   "cell_type": "code",
   "execution_count": 38,
   "metadata": {},
   "outputs": [
    {
     "data": {
      "application/vnd.jupyter.widget-view+json": {
       "model_id": "98f3a1a8d1474834a2b9ef038662e1b8",
       "version_major": 2,
       "version_minor": 0
      },
      "text/plain": [
       "Text(value='Hello World!', description='informacja:')"
      ]
     },
     "metadata": {},
     "output_type": "display_data"
    }
   ],
   "source": [
    "output_text = widgets.Text(value='Hello World!', disabled=False, description=\"informacja:\") #kontrolka\n",
    "\n",
    "display(output_text)"
   ]
  },
  {
   "cell_type": "code",
   "execution_count": 39,
   "metadata": {},
   "outputs": [],
   "source": [
    "def zmien_output(wiadomosc):\n",
    "    output_text.value=wiadomosc.data\n",
    "    \n",
    "nasz_subscriber=rospy.Subscriber(\"/informacja\",String,zmien_output)"
   ]
  },
  {
   "cell_type": "code",
   "execution_count": 37,
   "metadata": {},
   "outputs": [],
   "source": [
    "nasz_subscriber.unregister()"
   ]
  },
  {
   "cell_type": "markdown",
   "metadata": {},
   "source": [
    "- Wypisz pozycje:"
   ]
  },
  {
   "cell_type": "code",
   "execution_count": 42,
   "metadata": {},
   "outputs": [],
   "source": [
    "def wypisz_pozycje_widget(pozycja):\n",
    "    widget_x.value = str(pozycja.x)\n",
    "    widget_y.value = str(pozycja.y)\n",
    "    \n",
    "widget_x=widgets.Text(value='no info', disabled=False, description=\"poz_x:\")\n",
    "widget_y=widgets.Text(value='no info', disabled=False, description=\"poz_y:\")\n"
   ]
  },
  {
   "cell_type": "code",
   "execution_count": 43,
   "metadata": {},
   "outputs": [],
   "source": [
    "from turtlesim.msg import Pose\n",
    "pos_subscriber = rospy.Subscriber(\"turtle1/pose\",Pose,wypisz_pozycje_widget)\n"
   ]
  },
  {
   "cell_type": "code",
   "execution_count": 44,
   "metadata": {},
   "outputs": [
    {
     "data": {
      "application/vnd.jupyter.widget-view+json": {
       "model_id": "f4094b0549a644a2ab4aef9241eaf17e",
       "version_major": 2,
       "version_minor": 0
      },
      "text/plain": [
       "Text(value='11.088889122009277', description='poz_x:')"
      ]
     },
     "metadata": {},
     "output_type": "display_data"
    },
    {
     "data": {
      "application/vnd.jupyter.widget-view+json": {
       "model_id": "bf4151d171d34ffcb5c726fc71a6d971",
       "version_major": 2,
       "version_minor": 0
      },
      "text/plain": [
       "Text(value='10.00434684753418', description='poz_y:')"
      ]
     },
     "metadata": {},
     "output_type": "display_data"
    }
   ],
   "source": [
    "display(widget_x)\n",
    "display(widget_y)"
   ]
  },
  {
   "cell_type": "markdown",
   "metadata": {},
   "source": [
    "# 3.3)\n",
    "#### Zadanie 2\n",
    "Utworzyć publishera i slidery do wysyłania prędkości postępowej i obrotowej do robota. Można skorzystać z dostępnych sliderów na początku tego skryptu.\n",
    "Wiadomość o prędkościach powinna pojawiać się na topicu **/nazwa_robota/cmd_vel/slider**."
   ]
  },
  {
   "cell_type": "code",
   "execution_count": 32,
   "metadata": {},
   "outputs": [],
   "source": [
    "twist_publisher= rospy.Publisher(\"/turtle1/cmd_vel/slider\",Twist,queue_size=10)"
   ]
  },
  {
   "cell_type": "code",
   "execution_count": 33,
   "metadata": {},
   "outputs": [],
   "source": [
    "def move_robot(forward_vel=5,rotation_vel=5):\n",
    "\n",
    "    message=Twist()\n",
    "    message.angular.z=rotation_vel\n",
    "    message.linear.x=forward_vel\n",
    "    \n",
    "    \n",
    "    twist_publisher.publish(message)"
   ]
  },
  {
   "cell_type": "code",
   "execution_count": 34,
   "metadata": {},
   "outputs": [
    {
     "data": {
      "application/vnd.jupyter.widget-view+json": {
       "model_id": "d8fb2ef4f1184a5eb89e9552fcba49ea",
       "version_major": 2,
       "version_minor": 0
      },
      "text/plain": [
       "interactive(children=(FloatSlider(value=0.0, description='forward_vel', max=10.0, min=-10.0, step=2.0), FloatS…"
      ]
     },
     "metadata": {},
     "output_type": "display_data"
    },
    {
     "data": {
      "text/plain": [
       "<function __main__.move_robot(forward_vel=5, rotation_vel=5)>"
      ]
     },
     "execution_count": 34,
     "metadata": {},
     "output_type": "execute_result"
    }
   ],
   "source": [
    "widgets.interact(move_robot,\n",
    "                 forward_vel=widgets.FloatSlider(min=-10,max=10,step=2,value=0),\n",
    "                 rotation_vel=widgets.FloatSlider(min=-3,max=3,value=0))"
   ]
  },
  {
   "cell_type": "markdown",
   "metadata": {},
   "source": [
    "#### Zadanie 3\n",
    "- Utworzyć dwie kontrolki do wprowadzania prędkości. Wysłanie prędkości powinno zostać zatwierdzone przez wciśnięcie przycisku. Można skorzystać z kontrolki **FloatText** przedstawionej poniżej. Można zauważyć, że zwracana wartość przez kontrolkę jest typu float i nie trzeba dokonać konwersji danych."
   ]
  },
  {
   "cell_type": "code",
   "execution_count": 41,
   "metadata": {},
   "outputs": [
    {
     "data": {
      "application/vnd.jupyter.widget-view+json": {
       "model_id": "6c0edabd62414ddeb600a8a4da555d0a",
       "version_major": 2,
       "version_minor": 0
      },
      "text/plain": [
       "FloatText(value=7.5, description='Any:')"
      ]
     },
     "metadata": {},
     "output_type": "display_data"
    },
    {
     "name": "stdout",
     "output_type": "stream",
     "text": [
      "7.5\n",
      "typ wartości:  <class 'float'>\n"
     ]
    }
   ],
   "source": [
    "liczba = widgets.FloatText(\n",
    "    value=7.5,\n",
    "    description='Any:',\n",
    "    disabled=False\n",
    ")\n",
    "display(liczba)\n",
    "odczytana_liczba = liczba.value\n",
    "print(odczytana_liczba)\n",
    "print(\"typ wartości: \", type(odczytana_liczba))"
   ]
  },
  {
   "cell_type": "code",
   "execution_count": 10,
   "metadata": {},
   "outputs": [
    {
     "data": {
      "application/vnd.jupyter.widget-view+json": {
       "model_id": "a2b31502004044dd93b57b3a8148b069",
       "version_major": 2,
       "version_minor": 0
      },
      "text/plain": [
       "FloatText(value=7.5, description='Forward_vel = ')"
      ]
     },
     "metadata": {},
     "output_type": "display_data"
    },
    {
     "data": {
      "application/vnd.jupyter.widget-view+json": {
       "model_id": "78fa6a789ad5494d9c3cdcbe3af6ba89",
       "version_major": 2,
       "version_minor": 0
      },
      "text/plain": [
       "FloatText(value=7.5, description='Rotation_vel = ')"
      ]
     },
     "metadata": {},
     "output_type": "display_data"
    }
   ],
   "source": [
    "forward_vel=widgets.FloatText(\n",
    "    value=7.5,\n",
    "    description='Forward_vel = ',\n",
    "    disabled=False\n",
    ")\n",
    "display(forward_vel)\n",
    "rotation_vel=widgets.FloatText(\n",
    "    value=7.5,\n",
    "    description='Rotation_vel = ',\n",
    "    disabled=False\n",
    ")\n",
    "display(rotation_vel)"
   ]
  },
  {
   "cell_type": "code",
   "execution_count": 11,
   "metadata": {},
   "outputs": [],
   "source": [
    "from geometry_msgs.msg import Twist\n",
    "\n",
    "pub_info = rospy.Publisher(\"/turtle1/cmd_vel/button\",Twist,queue_size=10)\n",
    "\n",
    "def send_msg(button_data):\n",
    "    msg_info = Twist()\n",
    "    msg_info.linear.x = forward_vel.value\n",
    "    msg_info.angular.z = rotation_vel.value\n",
    "    pub_info.publish(msg_info)"
   ]
  },
  {
   "cell_type": "code",
   "execution_count": 12,
   "metadata": {},
   "outputs": [
    {
     "name": "stdout",
     "output_type": "stream",
     "text": [
      "[geometry_msgs/Twist]:\r\n",
      "geometry_msgs/Vector3 linear\r\n",
      "  float64 x\r\n",
      "  float64 y\r\n",
      "  float64 z\r\n",
      "geometry_msgs/Vector3 angular\r\n",
      "  float64 x\r\n",
      "  float64 y\r\n",
      "  float64 z\r\n",
      "\r\n"
     ]
    }
   ],
   "source": [
    "!rosmsg info Twist"
   ]
  },
  {
   "cell_type": "code",
   "execution_count": 13,
   "metadata": {},
   "outputs": [
    {
     "name": "stdout",
     "output_type": "stream",
     "text": [
      "/rosout\r\n",
      "/rosout_agg\r\n",
      "/turtle1/cmd_vel\r\n",
      "/turtle1/cmd_vel/button\r\n",
      "/turtle1/color_sensor\r\n",
      "/turtle1/pose\r\n"
     ]
    }
   ],
   "source": [
    "!rostopic list"
   ]
  },
  {
   "cell_type": "code",
   "execution_count": 16,
   "metadata": {},
   "outputs": [
    {
     "name": "stdout",
     "output_type": "stream",
     "text": [
      "Type: geometry_msgs/Twist\r\n",
      "\r\n",
      "Publishers: \r\n",
      " * /widgets_controller (http://localhost:35905/)\r\n",
      "\r\n",
      "Subscribers: \r\n",
      " * /rostopic_1311_1619423639561 (http://localhost:37641/)\r\n",
      "\r\n",
      "\r\n"
     ]
    }
   ],
   "source": [
    "!rostopic info /turtle1/cmd_vel/button"
   ]
  },
  {
   "cell_type": "code",
   "execution_count": 17,
   "metadata": {},
   "outputs": [
    {
     "name": "stdout",
     "output_type": "stream",
     "text": [
      "/rosout\r\n",
      "/rostopic_1311_1619423639561\r\n",
      "/turtlesim\r\n",
      "/widgets_controller\r\n"
     ]
    }
   ],
   "source": [
    "!rosnode list"
   ]
  },
  {
   "cell_type": "code",
   "execution_count": 15,
   "metadata": {},
   "outputs": [
    {
     "data": {
      "application/vnd.jupyter.widget-view+json": {
       "model_id": "7d50e6d780e648c6bbb1293d9426883b",
       "version_major": 2,
       "version_minor": 0
      },
      "text/plain": [
       "Button(button_style='success', description='wyslij', icon='check', style=ButtonStyle(), tooltip='Description')"
      ]
     },
     "metadata": {},
     "output_type": "display_data"
    }
   ],
   "source": [
    "przycisk_wyslij = widgets.Button(\n",
    "    value=False,\n",
    "    description='wyslij',\n",
    "    disabled=False,\n",
    "    button_style='success', # 'success', 'info', 'warning', 'danger' or ''\n",
    "    tooltip='Description',\n",
    "    icon='check' # (FontAwesome names without the `fa-` prefix)\n",
    ")\n",
    "przycisk_wyslij.on_click(send_msg)\n",
    "display(przycisk_wyslij)"
   ]
  },
  {
   "cell_type": "markdown",
   "metadata": {},
   "source": [
    "#### Zadanie 4\n",
    "Utworzyć przycisk do wysyłania prędkości wraz z funkcją, która będzie wysyłała wartość z przycisków na topic **/nazwa_robota/cmd_vel/float_text**."
   ]
  },
  {
   "cell_type": "code",
   "execution_count": null,
   "metadata": {},
   "outputs": [],
   "source": [
    "# UZUPEŁNIĆ\n"
   ]
  },
  {
   "cell_type": "code",
   "execution_count": null,
   "metadata": {},
   "outputs": [],
   "source": []
  },
  {
   "cell_type": "markdown",
   "metadata": {},
   "source": [
    "#### Zadanie 5\n",
    "Utworzyć parametr *select_controler* oraz uzupełnić poniższą klasę."
   ]
  },
  {
   "cell_type": "code",
   "execution_count": null,
   "metadata": {},
   "outputs": [],
   "source": [
    "rospy.set_param(..., ...) # UZUPEŁNIĆ ustawić parametr velocity_source, 1 - źródło slidery, 2 - float_text\n",
    "class VelocityControler:\n",
    "    def __init__(self):\n",
    "        slider_sub = ... # UZUPEŁNIĆ subscriberem od topicu ze sliderów,  do odczytu wykorzystać \n",
    "                         # metodę klasy callback_slider. Odwołanie się do metod klasy następuje poprzez self.nazwa_metody w klasie.\n",
    "        float_text_sub = ... # UZUPEŁNIĆ subscriberem od wartości prędkości wprowadzanych z pól tekstowych callback_float_text\n",
    "        self.vel_pub = ... # UZUPEŁNIĆ utworzyć publishera, który będzie wysyłał wiadomości w zależności od ustawionego\n",
    "                      # parametru velocity_source do robota. Gdzie wartość parametru 1 oznacza, że źródłem jest\n",
    "                      # slider, a wartość 2 - float_text. Dla pozostałych wartości parametru robot stoi w miejscu.\n",
    "                      # Wysyłana jest prędkość 0 zatrzymująca robota. Wiadomość powinna zostać opublikowana na topic\n",
    "                      # sterującym robotem /nazwa_robota/cmd_vel\n",
    "        \n",
    "    def callback_slider(self, msg_data):\n",
    "        # UZUPEŁNIĆ zweryfikować stan parametru i jeśli tryb jest właściwy przekazywać prędkości sterujące\n",
    "        ...\n",
    "        \n",
    "    def callback_float_text(self, msg_data):\n",
    "        # UZUPEŁNIĆ zweryfikować stan parametru i jeśli tryb jest właściwy przekazywać prędkości sterujące\n",
    "        ..."
   ]
  },
  {
   "cell_type": "code",
   "execution_count": null,
   "metadata": {},
   "outputs": [],
   "source": [
    "VelocityControler()"
   ]
  },
  {
   "cell_type": "markdown",
   "metadata": {},
   "source": [
    "# 4) Checkbox"
   ]
  },
  {
   "cell_type": "code",
   "execution_count": 45,
   "metadata": {},
   "outputs": [],
   "source": [
    "random_checkbox=widgets.Checkbox(\n",
    "    value=False,\n",
    "    description='Check me',\n",
    "    disabled=False,\n",
    "    indent=False\n",
    ")"
   ]
  },
  {
   "cell_type": "code",
   "execution_count": 46,
   "metadata": {},
   "outputs": [
    {
     "data": {
      "application/vnd.jupyter.widget-view+json": {
       "model_id": "42df7e80f8dc4d3f8986affc21792673",
       "version_major": 2,
       "version_minor": 0
      },
      "text/plain": [
       "Checkbox(value=False, description='Check me', indent=False)"
      ]
     },
     "metadata": {},
     "output_type": "display_data"
    }
   ],
   "source": [
    "random_checkbox"
   ]
  },
  {
   "cell_type": "markdown",
   "metadata": {},
   "source": [
    "#### Zadanie 6\n",
    "Odczytać wartość z przycisku i ustawić parametr **velocity_source**."
   ]
  },
  {
   "cell_type": "code",
   "execution_count": null,
   "metadata": {},
   "outputs": [],
   "source": [
    "# UZUPEŁNIĆ\n",
    "\n",
    "def set_velocity_source(slider_source): \n",
    "    #UZUPEŁNIĆ\n",
    "    ...\n",
    "    \n",
    "    \n",
    "widgets.interact(set_velocity_source,\n",
    "                slider_source = ... # UZUPEŁNIĆ\n",
    "                )"
   ]
  },
  {
   "cell_type": "markdown",
   "metadata": {},
   "source": [
    "# 5) Tabs"
   ]
  },
  {
   "cell_type": "markdown",
   "metadata": {},
   "source": [
    "Do grupowania zakladek i wyświetlania wszystkich w jednej karcie służy **VBox** z omawianej biblioteki. Przyjmuje listę kontrolek do wyświetlenia."
   ]
  },
  {
   "cell_type": "code",
   "execution_count": 48,
   "metadata": {},
   "outputs": [
    {
     "data": {
      "application/vnd.jupyter.widget-view+json": {
       "model_id": "18f717f3fab14c4f9c600f7624c39c2b",
       "version_major": 2,
       "version_minor": 0
      },
      "text/plain": [
       "Tab(children=(VBox(children=(Text(value='', description='P0'), IntSlider(value=0), IntSlider(value=0), IntSlid…"
      ]
     },
     "metadata": {},
     "output_type": "display_data"
    }
   ],
   "source": [
    "tab_contents = ['P0', 'P1', 'P2']\n",
    "children = [widgets.VBox([widgets.Text(description=name),\n",
    "                          widgets.IntSlider(),\n",
    "                          widgets.IntSlider(),\n",
    "                          widgets.IntSlider()])\n",
    "            for name in tab_contents]\n",
    "\n",
    "tab = widgets.Tab(children = children)\n",
    "for i in range(len(tab_contents)):\n",
    "    tab.set_title(i, tab_contents[i])\n",
    "tab"
   ]
  },
  {
   "cell_type": "code",
   "execution_count": 49,
   "metadata": {},
   "outputs": [
    {
     "data": {
      "text/plain": [
       "(VBox(children=(Text(value='', description='P0'), IntSlider(value=0), IntSlider(value=0), IntSlider(value=0))),\n",
       " VBox(children=(Text(value='', description='P1'), IntSlider(value=0), IntSlider(value=0), IntSlider(value=0))),\n",
       " VBox(children=(Text(value='', description='P2'), IntSlider(value=0), IntSlider(value=0), IntSlider(value=0))))"
      ]
     },
     "execution_count": 49,
     "metadata": {},
     "output_type": "execute_result"
    }
   ],
   "source": [
    "tab.children"
   ]
  },
  {
   "cell_type": "code",
   "execution_count": 54,
   "metadata": {},
   "outputs": [
    {
     "data": {
      "application/vnd.jupyter.widget-view+json": {
       "model_id": "f480f9fbe46346b986f4e620be97332d",
       "version_major": 2,
       "version_minor": 0
      },
      "text/plain": [
       "Tab(children=(VBox(children=(IntSlider(value=0, description='speed'), Checkbox(value=False, description='slide…"
      ]
     },
     "metadata": {},
     "output_type": "display_data"
    }
   ],
   "source": [
    "kontrolka1 = widgets.IntSlider(description=\"speed\")\n",
    "kontrolka1_2 = widgets.Checkbox(description=\"slider_source\")\n",
    "kontrolka2 = widgets.IntSlider(description=\"cos tam\")\n",
    "kontrolka3 = widgets.Text(description=\"info\")\n",
    "kontrolka3_2 = widgets.IntSlider(description=\"forward\")\n",
    "kontrolka3_3 = widgets.IntSlider(description=\"rotational\")\n",
    "\n",
    "children = [\n",
    "    widgets.VBox([kontrolka1, kontrolka1_2]),\n",
    "    widgets.VBox([kontrolka2]),\n",
    "    widgets.VBox([kontrolka3, kontrolka3_2, kontrolka3_3])\n",
    "]\n",
    "\n",
    "tab = widgets.Tab(children = children)\n",
    "# ustawianie nazwy zakładek; Kolejne argumenty: id zakładki, nazwa zakładki\n",
    "tab.set_title(0, \"P1\")\n",
    "tab.set_title(1, \"P2\")\n",
    "tab.set_title(2, \"P3\")\n",
    "tab"
   ]
  },
  {
   "cell_type": "code",
   "execution_count": 52,
   "metadata": {},
   "outputs": [],
   "source": [
    "?? kontrolka1.on_trait_change"
   ]
  },
  {
   "cell_type": "code",
   "execution_count": null,
   "metadata": {},
   "outputs": [],
   "source": [
    "?? kontrolka1.observe"
   ]
  },
  {
   "cell_type": "code",
   "execution_count": 53,
   "metadata": {},
   "outputs": [],
   "source": [
    "wyn=kontrolka1.observe(print)"
   ]
  },
  {
   "cell_type": "code",
   "execution_count": 55,
   "metadata": {},
   "outputs": [
    {
     "data": {
      "text/plain": [
       "<function print>"
      ]
     },
     "execution_count": 55,
     "metadata": {},
     "output_type": "execute_result"
    }
   ],
   "source": [
    "def zaw_suw(slownik_wart):\n",
    "    print(f\"aktualna zawartosc suwaka to {slownik_wart['new']}\")"
   ]
  },
  {
   "cell_type": "markdown",
   "metadata": {},
   "source": [
    "### Dodatkowe widgety\n",
    "https://ipywidgets.readthedocs.io/en/latest/examples/Widget%20List.html\n",
    "### Zmiana stylu i układu kontrolek\n",
    "https://ipywidgets.readthedocs.io/en/latest/examples/Widget%20Styling.html"
   ]
  },
  {
   "cell_type": "code",
   "execution_count": null,
   "metadata": {},
   "outputs": [],
   "source": []
  }
 ],
 "metadata": {
  "kernelspec": {
   "display_name": "Python 3",
   "language": "python",
   "name": "python3"
  },
  "language_info": {
   "codemirror_mode": {
    "name": "ipython",
    "version": 3
   },
   "file_extension": ".py",
   "mimetype": "text/x-python",
   "name": "python",
   "nbconvert_exporter": "python",
   "pygments_lexer": "ipython3",
   "version": "3.8.5"
  }
 },
 "nbformat": 4,
 "nbformat_minor": 4
}
