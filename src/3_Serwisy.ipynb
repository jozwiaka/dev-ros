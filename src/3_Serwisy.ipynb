{
 "cells": [
  {
   "cell_type": "markdown",
   "metadata": {},
   "source": [
    "# ROS Service\n",
    "\n",
    "- Service = Another way that nodes can communicate with each other. Services allow nodes to send a request and receive a response.\n",
    "\n",
    "- Service = Kolejny sposób komunikacji. Zaletą serwisów jest możliwość wysłania zapytania do serwera. Podobnie jak dla ROS topic należy znać format wiadomości. Serwisy w danej paczce ROS przechowywane są w katalogu srv, a rozszerzenie serwisu to **.srv**. \n",
    "\n",
    "# 1) Struktura wiadomości serwisowej\n",
    "\n",
    "Wyróżnia się podział na format wiadomości:\n",
    "- wysyłany przez klienta (górna część wiadomości nad znakiem **---**)\n",
    "- odpowiedź serwera (dolna część wiadomości pod znakiem **---**)"
   ]
  },
  {
   "cell_type": "code",
   "execution_count": 51,
   "metadata": {},
   "outputs": [
    {
     "name": "stdout",
     "output_type": "stream",
     "text": [
      "float64 x\r\n",
      "float64 y\r\n",
      "---\r\n",
      "string result\r\n",
      "\r\n"
     ]
    }
   ],
   "source": [
    "!rossrv info pkg_tsr/Task #jest udostepnione w pkg_tsr taki format, ze bedzie przyjmowal dwa floaty i zwracal string"
   ]
  },
  {
   "cell_type": "markdown",
   "metadata": {},
   "source": [
    "Z lewej strony należy podać typ wiadomości ROS. Mogą być one bardziej złożone i składać się z już utworzonych\n",
    "wiadomości (ROS msg). Z prawej strony podawana jest nazwa pola.\n",
    "\n",
    "Typ serwisu to **nazwa paczki + nazwa serwisu.srv**. Wyświetlenie przykładowego serwisu znajdującego się w paczce tsr_materials:"
   ]
  },
  {
   "cell_type": "markdown",
   "metadata": {},
   "source": [
    "# 2) Wyświetlanie listy aktualnie dostępnych serwisów"
   ]
  },
  {
   "cell_type": "code",
   "execution_count": 2,
   "metadata": {},
   "outputs": [
    {
     "name": "stdout",
     "output_type": "stream",
     "text": [
      "/Talker/get_loggers\r\n",
      "/Talker/set_logger_level\r\n",
      "/clear\r\n",
      "/kill\r\n",
      "/reset\r\n",
      "/rosout/get_loggers\r\n",
      "/rosout/set_logger_level\r\n",
      "/spawn\r\n",
      "/turtle1/set_pen\r\n",
      "/turtle1/teleport_absolute\r\n",
      "/turtle1/teleport_relative\r\n",
      "/turtlesim/get_loggers\r\n",
      "/turtlesim/set_logger_level\r\n"
     ]
    }
   ],
   "source": [
    "!rosservice list"
   ]
  },
  {
   "cell_type": "markdown",
   "metadata": {},
   "source": [
    "# 3) Wyświetlanie dostępnej pomocy dla polecenia rosservice."
   ]
  },
  {
   "cell_type": "code",
   "execution_count": 3,
   "metadata": {},
   "outputs": [
    {
     "name": "stdout",
     "output_type": "stream",
     "text": [
      "Commands:\r\n",
      "\trosservice args\tprint service arguments\r\n",
      "\trosservice call\tcall the service with the provided args\r\n",
      "\trosservice find\tfind services by service type\r\n",
      "\trosservice info\tprint information about service\r\n",
      "\trosservice list\tlist active services\r\n",
      "\trosservice type\tprint service type\r\n",
      "\trosservice uri\tprint service ROSRPC uri\r\n",
      "\r\n",
      "Type rosservice <command> -h for more detailed usage, e.g. 'rosservice call -h'\r\n",
      "\r\n"
     ]
    }
   ],
   "source": [
    "!rosservice --help"
   ]
  },
  {
   "cell_type": "markdown",
   "metadata": {},
   "source": [
    "### Dostępne serwisy dla turtlesim node"
   ]
  },
  {
   "cell_type": "markdown",
   "metadata": {},
   "source": [
    "W podstawowym zakresie dostępne są następujące serwisy bez względu na robota:\n",
    "- /clear - wyczyszczenie narysowanych ścieżek\n",
    "- /kill - usunięcie robota\n",
    "- /reset - reset środowiska do stanu początkowego\n",
    "- /spawn - utworzenie nowego robota\n",
    "\n",
    "Dla pojedynczego utworzonego robota w przestrzeni nazw na przykładzie **turtle1** dostępne są nastpujące serwisy:\n",
    "- /turtle1/set_pen - ustawienie koloru pędzla do rysowania\n",
    "- /turtle1/teleport_absolute - natychmiastowe przeniesienie robota do wskazanej lokalizacji\n",
    "- /turtle1/teleport_relative - przeniesienie robota, współrzędne podawane w układzie robota"
   ]
  },
  {
   "cell_type": "markdown",
   "metadata": {},
   "source": [
    "# 4) Rosservice info"
   ]
  },
  {
   "cell_type": "code",
   "execution_count": 5,
   "metadata": {},
   "outputs": [
    {
     "name": "stdout",
     "output_type": "stream",
     "text": [
      "Node: /turtlesim\r\n",
      "URI: rosrpc://localhost:33161\r\n",
      "Type: std_srvs/Empty\r\n",
      "Args: \r\n"
     ]
    }
   ],
   "source": [
    "!rosservice info clear"
   ]
  },
  {
   "cell_type": "code",
   "execution_count": 8,
   "metadata": {},
   "outputs": [
    {
     "name": "stdout",
     "output_type": "stream",
     "text": [
      "Node: /turtlesim\n",
      "URI: rosrpc://localhost:40793\n",
      "Type: turtlesim/TeleportAbsolute\n",
      "Args: x y theta\n"
     ]
    }
   ],
   "source": [
    "!rosservice info turtle1/teleport_absolute"
   ]
  },
  {
   "cell_type": "code",
   "execution_count": 21,
   "metadata": {},
   "outputs": [
    {
     "name": "stdout",
     "output_type": "stream",
     "text": [
      "Node: /turtlesim\r\n",
      "URI: rosrpc://localhost:58493\r\n",
      "Type: turtlesim/Kill\r\n",
      "Args: name\r\n"
     ]
    }
   ],
   "source": [
    "!rosservice info kill"
   ]
  },
  {
   "cell_type": "markdown",
   "metadata": {},
   "source": [
    "# 5) Rosservice call\n",
    "- rosservice call [service] [args]"
   ]
  },
  {
   "cell_type": "code",
   "execution_count": 37,
   "metadata": {},
   "outputs": [
    {
     "name": "stdout",
     "output_type": "stream",
     "text": [
      "name: \"Delmiak\"\r\n"
     ]
    }
   ],
   "source": [
    "!rosservice call spawn 5 5 0 Delmiak #x,y,theta,nazwa #x,y <0,11>"
   ]
  },
  {
   "cell_type": "code",
   "execution_count": 13,
   "metadata": {},
   "outputs": [
    {
     "name": "stdout",
     "output_type": "stream",
     "text": [
      "\r\n"
     ]
    }
   ],
   "source": [
    "!rosservice call clear #czyszczenie ścieżek"
   ]
  },
  {
   "cell_type": "markdown",
   "metadata": {},
   "source": [
    "- Kwadrat /*nazwa_robota*/teleport_absolute"
   ]
  },
  {
   "cell_type": "code",
   "execution_count": 38,
   "metadata": {},
   "outputs": [
    {
     "name": "stdout",
     "output_type": "stream",
     "text": [
      "\n",
      "\n",
      "\n",
      "\n"
     ]
    }
   ],
   "source": [
    "#rosservice call [service]                  [args]\n",
    "!rosservice call /Delmiak/teleport_absolute 10 1 0\n",
    "!rosservice call /Delmiak/teleport_absolute 10 10 0\n",
    "!rosservice call /Delmiak/teleport_absolute 1 10 0\n",
    "!rosservice call /Delmiak/teleport_absolute 1 1 0"
   ]
  },
  {
   "cell_type": "markdown",
   "metadata": {},
   "source": [
    "- Usuwa robota"
   ]
  },
  {
   "cell_type": "code",
   "execution_count": 10,
   "metadata": {},
   "outputs": [
    {
     "name": "stdout",
     "output_type": "stream",
     "text": [
      "\r\n"
     ]
    }
   ],
   "source": [
    "!rosservice call /kill Delmiak"
   ]
  },
  {
   "cell_type": "markdown",
   "metadata": {},
   "source": [
    "- Usuwa wszystkie roboty"
   ]
  },
  {
   "cell_type": "code",
   "execution_count": 89,
   "metadata": {},
   "outputs": [
    {
     "name": "stdout",
     "output_type": "stream",
     "text": [
      "\r\n"
     ]
    }
   ],
   "source": [
    "!rosservice call reset #usuwa żółwie, utworzone linie i tworzy nowego żółwia"
   ]
  },
  {
   "cell_type": "markdown",
   "metadata": {},
   "source": [
    "# 6) ServiceProxy - Klient\n",
    "\n",
    "- rospy.ServiceProxy(name, service_class, persistent=False, headers=None)"
   ]
  },
  {
   "cell_type": "code",
   "execution_count": 15,
   "metadata": {},
   "outputs": [],
   "source": [
    "import rospy\n",
    "rospy.init_node(\"serwis_node_test\")"
   ]
  },
  {
   "cell_type": "markdown",
   "metadata": {},
   "source": [
    "- Empty:"
   ]
  },
  {
   "cell_type": "code",
   "execution_count": 16,
   "metadata": {},
   "outputs": [],
   "source": [
    "#import serwisu\n",
    "from std_srvs.srv import Empty"
   ]
  },
  {
   "cell_type": "code",
   "execution_count": 17,
   "metadata": {},
   "outputs": [
    {
     "data": {
      "text/plain": []
     },
     "execution_count": 17,
     "metadata": {},
     "output_type": "execute_result"
    }
   ],
   "source": [
    "clear_map = rospy.ServiceProxy('clear', Empty)\n",
    "clear_map()"
   ]
  },
  {
   "cell_type": "code",
   "execution_count": 18,
   "metadata": {},
   "outputs": [
    {
     "data": {
      "text/plain": []
     },
     "execution_count": 18,
     "metadata": {},
     "output_type": "execute_result"
    }
   ],
   "source": [
    "reset_sim_state = rospy.ServiceProxy('reset', Empty)\n",
    "reset_sim_state()"
   ]
  },
  {
   "cell_type": "markdown",
   "metadata": {},
   "source": [
    "- Spawn:"
   ]
  },
  {
   "cell_type": "code",
   "execution_count": 61,
   "metadata": {},
   "outputs": [],
   "source": [
    "from turtlesim.srv import Spawn"
   ]
  },
  {
   "cell_type": "code",
   "execution_count": 62,
   "metadata": {},
   "outputs": [],
   "source": [
    "create_new_robot = rospy.ServiceProxy('spawn', Spawn)\n",
    "imie = create_new_robot(3, 3, 0, \"Delmiak\")"
   ]
  },
  {
   "cell_type": "code",
   "execution_count": 17,
   "metadata": {},
   "outputs": [
    {
     "data": {
      "text/plain": [
       "'NewTurtle'"
      ]
     },
     "execution_count": 17,
     "metadata": {},
     "output_type": "execute_result"
    }
   ],
   "source": [
    "imie.name"
   ]
  },
  {
   "cell_type": "markdown",
   "metadata": {},
   "source": [
    "- A dictionary or other mapping object used to store an object's (writable) attributes"
   ]
  },
  {
   "cell_type": "code",
   "execution_count": 21,
   "metadata": {},
   "outputs": [
    {
     "data": {
      "text/plain": [
       "mappingproxy({'__module__': 'turtlesim.srv._Spawn',\n",
       "              '_type': 'turtlesim/Spawn',\n",
       "              '_md5sum': '0b2d2e872a8e2887d5ed626f2bf2c561',\n",
       "              '_request_class': turtlesim.srv._Spawn.SpawnRequest,\n",
       "              '_response_class': turtlesim.srv._Spawn.SpawnResponse,\n",
       "              '__dict__': <attribute '__dict__' of 'Spawn' objects>,\n",
       "              '__weakref__': <attribute '__weakref__' of 'Spawn' objects>,\n",
       "              '__doc__': None})"
      ]
     },
     "execution_count": 21,
     "metadata": {},
     "output_type": "execute_result"
    }
   ],
   "source": [
    "sp=Spawn\n",
    "sp.__dict__"
   ]
  },
  {
   "cell_type": "markdown",
   "metadata": {},
   "source": [
    "#### Zadanie 5\n",
    "Ustawić kolor pędzla na czerwony dla nowo utworzonego robota używając kodu w Pythonie"
   ]
  },
  {
   "cell_type": "code",
   "execution_count": 63,
   "metadata": {},
   "outputs": [
    {
     "data": {
      "text/plain": []
     },
     "execution_count": 63,
     "metadata": {},
     "output_type": "execute_result"
    }
   ],
   "source": [
    "from turtlesim.srv import SetPen\n",
    "set_pen = rospy.ServiceProxy('/Delmiak/set_pen', SetPen)\n",
    "set_pen(255, 0, 0, 3, 0)"
   ]
  },
  {
   "cell_type": "markdown",
   "metadata": {},
   "source": [
    "#### Zadanie 6\n",
    "Tak jak wcześniej narysować kwadrat, ale wykorzystując program w Pythonie."
   ]
  },
  {
   "cell_type": "code",
   "execution_count": 64,
   "metadata": {},
   "outputs": [
    {
     "data": {
      "text/plain": []
     },
     "execution_count": 64,
     "metadata": {},
     "output_type": "execute_result"
    }
   ],
   "source": [
    "# UZUPEŁNIĆ\n",
    "from turtlesim.srv import TeleportAbsolute\n",
    "move_tu = rospy.ServiceProxy('/Delmiak/teleport_absolute',TeleportAbsolute)\n",
    "\n",
    "move_tu(3,1,0)\n",
    "move_tu(3,3,0)\n",
    "move_tu(1,3,0)\n",
    "move_tu(1,1,0)"
   ]
  },
  {
   "cell_type": "markdown",
   "metadata": {},
   "source": [
    "# 7) Service\n",
    "\n",
    "- rospy.Service(name, service_class, handler, buff_size=65536)"
   ]
  },
  {
   "cell_type": "code",
   "execution_count": 1,
   "metadata": {},
   "outputs": [],
   "source": [
    "from pkg_tsr.srv import Task\n",
    "from turtlesim.srv import TeleportAbsolute\n",
    "from std_srvs.srv import Empty"
   ]
  },
  {
   "cell_type": "code",
   "execution_count": 25,
   "metadata": {},
   "outputs": [],
   "source": [
    "def draw_square_function(req):\n",
    "    width = 5\n",
    "    print(\"Init pose x=%s, y=%s\" % (req.x, req.y))\n",
    "    \n",
    "    #ServiceProxy\n",
    "    set_pose = rospy.ServiceProxy('/turtle1/teleport_absolute', TeleportAbsolute)\n",
    "    clear_map = rospy.ServiceProxy('clear', Empty)\n",
    "    \n",
    "    #SerivceProxy_Use\n",
    "    set_pose(req.x,req.y,0)\n",
    "    clear_map()\n",
    "    \n",
    "    #Set pose\n",
    "    set_pose(req.x,req.y + width,0)\n",
    "    set_pose(req.x + width,req.y + width,0)\n",
    "    set_pose(req.x + width, req.y,0)\n",
    "    set_pose(req.x, req.y,0)\n",
    "    \n",
    "    return \"finished\""
   ]
  },
  {
   "cell_type": "code",
   "execution_count": 26,
   "metadata": {},
   "outputs": [],
   "source": [
    "#rospy.Service(name, service_class, handler, buff_size=65536)\n",
    "s = rospy.Service('robot_teleport', Task, draw_square_function)"
   ]
  },
  {
   "cell_type": "code",
   "execution_count": 27,
   "metadata": {},
   "outputs": [
    {
     "name": "stdout",
     "output_type": "stream",
     "text": [
      "Init pose x=1.0, y=2.0\n"
     ]
    }
   ],
   "source": [
    "draw_square = rospy.ServiceProxy('robot_teleport', Task)\n",
    "resp = draw_square(1, 2)"
   ]
  },
  {
   "cell_type": "markdown",
   "metadata": {},
   "source": [
    " - Odczyt otrzymanej wartości z serwera:"
   ]
  },
  {
   "cell_type": "code",
   "execution_count": null,
   "metadata": {},
   "outputs": [],
   "source": [
    "resp.result"
   ]
  },
  {
   "cell_type": "markdown",
   "metadata": {},
   "source": [
    "#### UWAGA\n",
    "Wyłączenie serwisu - gdy wprowadzone zostaną jakieś zmiany w funkcji serwisowej, aby nie restartować Kernela Jupyter Notebook, można poniższą metodą shutdown() zatrzymać działający serwis."
   ]
  },
  {
   "cell_type": "code",
   "execution_count": null,
   "metadata": {},
   "outputs": [],
   "source": [
    "s.shutdown()"
   ]
  },
  {
   "cell_type": "markdown",
   "metadata": {},
   "source": [
    "#### Zadanie 7\n",
    "#### 7.1 \n",
    "- **go_to_goal()** dojazd do punktu o podanych współrzędnych.\n",
    "- W klasie Robot znajduje się serwis odpowiedzialny za wywołanie tej metody.\n",
    "- Serwis korzysta z typu **tsr_materials/Task.srv**.\n",
    "- W zapytaniu od klienta w polach x,y należy przesłać współrzędne celu.\n",
    "- W odpowiedzi na zapytanie klienta należy odesłać informację o zakończeniu działania.\n",
    "- Metoda powinna wysyłać odpowiednie prędkości sterujące robotem (postępową i obrotową)na topicu **/nazwa_robot/cmd_vel**.\n",
    "- Należy ustawić wartość zmiennej od tolerancji dojazdu do celu (np.0.05) i skorzystać z niej przy dojeżdżaniu do celu.\n",
    "- Dodatkowo powinny zostać uwzględnione ograniczenia prędkości (np. 0.3). \n",
    "\n",
    "#### 7.2 \n",
    "- Analogicznie do metody **go_to_goal** dołożyć inną metodę umożliwiającą dojazd do wskazanego punktu i rozpoczęcie ruchu po dowolnej krzywej np. łamana, spirala, okrąg."
   ]
  },
  {
   "cell_type": "code",
   "execution_count": 2,
   "metadata": {},
   "outputs": [],
   "source": [
    "import rospy\n",
    "from turtlesim.srv import Spawn\n",
    "from turtlesim.msg import Pose\n",
    "from geometry_msgs.msg import Twist\n",
    "from pkg_tsr.srv import Task\n",
    "import math\n",
    "\n",
    "rospy.init_node(\"serwis_node_test\")"
   ]
  },
  {
   "cell_type": "markdown",
   "metadata": {},
   "source": [
    "### 7.1"
   ]
  },
  {
   "cell_type": "code",
   "execution_count": 3,
   "metadata": {},
   "outputs": [],
   "source": [
    "class Robot:\n",
    "    def __init__(self, name, x, y):\n",
    "        self.name = name\n",
    "        self.pose = Pose()\n",
    "        create_new_turtle = rospy.ServiceProxy('spawn', Spawn)\n",
    "        create_new_turtle(x, y, 0, name)\n",
    "        \n",
    "        self.velocity_pub = rospy.Publisher(name+'/cmd_vel', Twist, queue_size=10)\n",
    "        self.pose_sub = rospy.Subscriber(name+'/pose',Pose, self.callback_pose)\n",
    "        self.follow_service = rospy.Service(name+'/go_to_goal', Task, self.go_to_goal)\n",
    "        \n",
    "    def go_to_goal(self, msg_srv):\n",
    "        max_speed = 0.3\n",
    "        omega=0.3\n",
    "        tolerance = 0.05\n",
    "        \n",
    "        #polozenie celu\n",
    "        x_c=msg_srv.x\n",
    "        y_c=msg_srv.y\n",
    "        \n",
    "        msg_vel=Twist()\n",
    "        \n",
    "        while True:\n",
    "            #polozenie robota\n",
    "            x=self.pose.x\n",
    "            y=self.pose.y\n",
    "            theta=self.pose.theta\n",
    "            \n",
    "            msg_vel.linear.x=max_speed\n",
    "            if math.atan2(y_c-y,x_c-x)!=theta:\n",
    "                if theta<math.atan2(y_c-y,x_c-x):\n",
    "                    msg_vel.angular.z=omega\n",
    "                else:\n",
    "                    msg_vel.angular.z=-omega\n",
    "            else:\n",
    "                msg_vel.angular.z=0\n",
    "            if math.sqrt((x_c-x)**2+(y_c-y)**2)<tolerance: \n",
    "                return \"finished\"\n",
    "            self.velocity_pub.publish(msg_vel)\n",
    "            \n",
    "    def go_to_goal_and_do_circle(self, msg_srv):\n",
    "        max_speed = 0.3\n",
    "        omega=0.3\n",
    "        tolerance = 0.05\n",
    "        \n",
    "        go_to_goal=True\n",
    "        do_circle = False\n",
    "        \n",
    "        #polozenie celu\n",
    "        x_c=msg_srv.x\n",
    "        y_c=msg_srv.y\n",
    "        \n",
    "        msg_vel=Twist()\n",
    "        \n",
    "        while True:\n",
    "            #polozenie robota\n",
    "            x=self.pose.x\n",
    "            y=self.pose.y\n",
    "            theta=self.pose.theta\n",
    "            \n",
    "            if go_to_goal:\n",
    "                msg_vel.linear.x=max_speed\n",
    "                if math.atan2(y_c-y,x_c-x)!=theta:\n",
    "                    if theta<math.atan2(y_c-y,x_c-x):\n",
    "                        msg_vel.angular.z=omega\n",
    "                    else:\n",
    "                        msg_vel.angular.z=-omega\n",
    "                else:\n",
    "                    msg_vel.angular.z=0\n",
    "                if math.sqrt((x_c-x)**2+(y_c-y)**2)<tolerance: \n",
    "                    go_to_goal=False\n",
    "                    do_circle=True\n",
    "            if do_circle:\n",
    "                msg_vel.angular.z=omega\n",
    "            self.velocity_pub.publish(msg_vel)\n",
    "    \n",
    "    def callback_pose(self, pose_msg):\n",
    "        self.pose=pose_msg\n",
    "    def unregister(self):\n",
    "        self.follow_service.shutdown()"
   ]
  },
  {
   "cell_type": "code",
   "execution_count": 31,
   "metadata": {},
   "outputs": [],
   "source": [
    "nowy_robot.unregister()"
   ]
  },
  {
   "cell_type": "code",
   "execution_count": 32,
   "metadata": {},
   "outputs": [
    {
     "name": "stdout",
     "output_type": "stream",
     "text": [
      "\r\n"
     ]
    }
   ],
   "source": [
    "!rosservice call reset"
   ]
  },
  {
   "cell_type": "code",
   "execution_count": 4,
   "metadata": {},
   "outputs": [],
   "source": [
    "nowy_robot = Robot(\"Turtle\",4,4)"
   ]
  },
  {
   "cell_type": "code",
   "execution_count": 5,
   "metadata": {},
   "outputs": [
    {
     "data": {
      "text/plain": [
       "x: 4.0\n",
       "y: 4.0\n",
       "theta: 0.0\n",
       "linear_velocity: 0.0\n",
       "angular_velocity: 0.0"
      ]
     },
     "execution_count": 5,
     "metadata": {},
     "output_type": "execute_result"
    }
   ],
   "source": [
    "nowy_robot.pose"
   ]
  },
  {
   "cell_type": "markdown",
   "metadata": {},
   "source": [
    "- Utworzyć klienta i zlecić zadanie dojazdu do kilku różnych punktów:"
   ]
  },
  {
   "cell_type": "code",
   "execution_count": 6,
   "metadata": {},
   "outputs": [],
   "source": [
    "def go_to_different_goals(nowy_robot):\n",
    "    go_to_goal_SP=rospy.ServiceProxy(nowy_robot.name+'/go_to_goal', Task)\n",
    "    go_to_goal_SP(8,7)\n",
    "    go_to_goal_SP(2,3)\n",
    "    go_to_goal_SP(4,6)"
   ]
  },
  {
   "cell_type": "code",
   "execution_count": 7,
   "metadata": {},
   "outputs": [],
   "source": [
    "go_to_different_goals(nowy_robot)"
   ]
  },
  {
   "cell_type": "code",
   "execution_count": null,
   "metadata": {},
   "outputs": [],
   "source": [
    "nowy_robot.pose"
   ]
  },
  {
   "cell_type": "markdown",
   "metadata": {},
   "source": [
    "### 7.2 \n",
    "- Analogicznie do metody go_to_goal dołożyć inną metodę umożliwiającą dojazd do wskazanego punktu i rozpoczęcie ruchu po dowolnej krzywej np. łamana, spirala, okrąg."
   ]
  },
  {
   "cell_type": "code",
   "execution_count": 23,
   "metadata": {},
   "outputs": [
    {
     "ename": "KeyboardInterrupt",
     "evalue": "",
     "output_type": "error",
     "traceback": [
      "\u001b[0;31m---------------------------------------------------------------------------\u001b[0m",
      "\u001b[0;31mKeyboardInterrupt\u001b[0m                         Traceback (most recent call last)",
      "\u001b[0;32m<ipython-input-23-bdc665253f9e>\u001b[0m in \u001b[0;36m<module>\u001b[0;34m\u001b[0m\n\u001b[1;32m      2\u001b[0m \u001b[0msrv\u001b[0m\u001b[0;34m.\u001b[0m\u001b[0mx\u001b[0m\u001b[0;34m=\u001b[0m\u001b[0;36m8\u001b[0m\u001b[0;34m\u001b[0m\u001b[0;34m\u001b[0m\u001b[0m\n\u001b[1;32m      3\u001b[0m \u001b[0msrv\u001b[0m\u001b[0;34m.\u001b[0m\u001b[0my\u001b[0m\u001b[0;34m=\u001b[0m\u001b[0;36m7\u001b[0m\u001b[0;34m\u001b[0m\u001b[0;34m\u001b[0m\u001b[0m\n\u001b[0;32m----> 4\u001b[0;31m \u001b[0mnowy_robot\u001b[0m\u001b[0;34m.\u001b[0m\u001b[0mgo_to_goal_and_do_circle\u001b[0m\u001b[0;34m(\u001b[0m\u001b[0msrv\u001b[0m\u001b[0;34m)\u001b[0m\u001b[0;34m\u001b[0m\u001b[0;34m\u001b[0m\u001b[0m\n\u001b[0m",
      "\u001b[0;32m<ipython-input-19-87c5fe589e0d>\u001b[0m in \u001b[0;36mgo_to_goal_and_do_circle\u001b[0;34m(self, msg_srv)\u001b[0m\n\u001b[1;32m     73\u001b[0m             \u001b[0;32mif\u001b[0m \u001b[0mdo_circle\u001b[0m\u001b[0;34m:\u001b[0m\u001b[0;34m\u001b[0m\u001b[0;34m\u001b[0m\u001b[0m\n\u001b[1;32m     74\u001b[0m                 \u001b[0mmsg_vel\u001b[0m\u001b[0;34m.\u001b[0m\u001b[0mangular\u001b[0m\u001b[0;34m.\u001b[0m\u001b[0mz\u001b[0m\u001b[0;34m=\u001b[0m\u001b[0momega\u001b[0m\u001b[0;34m\u001b[0m\u001b[0;34m\u001b[0m\u001b[0m\n\u001b[0;32m---> 75\u001b[0;31m             \u001b[0mself\u001b[0m\u001b[0;34m.\u001b[0m\u001b[0mvelocity_pub\u001b[0m\u001b[0;34m.\u001b[0m\u001b[0mpublish\u001b[0m\u001b[0;34m(\u001b[0m\u001b[0mmsg_vel\u001b[0m\u001b[0;34m)\u001b[0m\u001b[0;34m\u001b[0m\u001b[0;34m\u001b[0m\u001b[0m\n\u001b[0m\u001b[1;32m     76\u001b[0m \u001b[0;34m\u001b[0m\u001b[0m\n\u001b[1;32m     77\u001b[0m     \u001b[0;32mdef\u001b[0m \u001b[0mcallback_pose\u001b[0m\u001b[0;34m(\u001b[0m\u001b[0mself\u001b[0m\u001b[0;34m,\u001b[0m \u001b[0mpose_msg\u001b[0m\u001b[0;34m)\u001b[0m\u001b[0;34m:\u001b[0m\u001b[0;34m\u001b[0m\u001b[0;34m\u001b[0m\u001b[0m\n",
      "\u001b[0;32m/opt/ros/noetic/lib/python3/dist-packages/rospy/topics.py\u001b[0m in \u001b[0;36mpublish\u001b[0;34m(self, *args, **kwds)\u001b[0m\n\u001b[1;32m    880\u001b[0m         \u001b[0;32mtry\u001b[0m\u001b[0;34m:\u001b[0m\u001b[0;34m\u001b[0m\u001b[0;34m\u001b[0m\u001b[0m\n\u001b[1;32m    881\u001b[0m             \u001b[0mself\u001b[0m\u001b[0;34m.\u001b[0m\u001b[0mimpl\u001b[0m\u001b[0;34m.\u001b[0m\u001b[0macquire\u001b[0m\u001b[0;34m(\u001b[0m\u001b[0;34m)\u001b[0m\u001b[0;34m\u001b[0m\u001b[0;34m\u001b[0m\u001b[0m\n\u001b[0;32m--> 882\u001b[0;31m             \u001b[0mself\u001b[0m\u001b[0;34m.\u001b[0m\u001b[0mimpl\u001b[0m\u001b[0;34m.\u001b[0m\u001b[0mpublish\u001b[0m\u001b[0;34m(\u001b[0m\u001b[0mdata\u001b[0m\u001b[0;34m)\u001b[0m\u001b[0;34m\u001b[0m\u001b[0;34m\u001b[0m\u001b[0m\n\u001b[0m\u001b[1;32m    883\u001b[0m         \u001b[0;32mexcept\u001b[0m \u001b[0mgenpy\u001b[0m\u001b[0;34m.\u001b[0m\u001b[0mSerializationError\u001b[0m \u001b[0;32mas\u001b[0m \u001b[0me\u001b[0m\u001b[0;34m:\u001b[0m\u001b[0;34m\u001b[0m\u001b[0;34m\u001b[0m\u001b[0m\n\u001b[1;32m    884\u001b[0m             \u001b[0;31m# can't go to rospy.logerr(), b/c this could potentially recurse\u001b[0m\u001b[0;34m\u001b[0m\u001b[0;34m\u001b[0m\u001b[0;34m\u001b[0m\u001b[0m\n",
      "\u001b[0;32m/opt/ros/noetic/lib/python3/dist-packages/rospy/topics.py\u001b[0m in \u001b[0;36mpublish\u001b[0;34m(self, message, connection_override)\u001b[0m\n\u001b[1;32m   1073\u001b[0m                 \u001b[0;32mtry\u001b[0m\u001b[0;34m:\u001b[0m\u001b[0;34m\u001b[0m\u001b[0;34m\u001b[0m\u001b[0m\n\u001b[1;32m   1074\u001b[0m                     \u001b[0;32mif\u001b[0m \u001b[0;32mnot\u001b[0m \u001b[0mis_shutdown\u001b[0m\u001b[0;34m(\u001b[0m\u001b[0;34m)\u001b[0m\u001b[0;34m:\u001b[0m\u001b[0;34m\u001b[0m\u001b[0;34m\u001b[0m\u001b[0m\n\u001b[0;32m-> 1075\u001b[0;31m                         \u001b[0mc\u001b[0m\u001b[0;34m.\u001b[0m\u001b[0mwrite_data\u001b[0m\u001b[0;34m(\u001b[0m\u001b[0mdata\u001b[0m\u001b[0;34m)\u001b[0m\u001b[0;34m\u001b[0m\u001b[0;34m\u001b[0m\u001b[0m\n\u001b[0m\u001b[1;32m   1076\u001b[0m                 \u001b[0;32mexcept\u001b[0m \u001b[0mTransportTerminated\u001b[0m \u001b[0;32mas\u001b[0m \u001b[0me\u001b[0m\u001b[0;34m:\u001b[0m\u001b[0;34m\u001b[0m\u001b[0;34m\u001b[0m\u001b[0m\n\u001b[1;32m   1077\u001b[0m                     \u001b[0mlogdebug\u001b[0m\u001b[0;34m(\u001b[0m\u001b[0;34m\"publisher connection to [%s] terminated, see errorlog for details:\\n%s\"\u001b[0m\u001b[0;34m%\u001b[0m\u001b[0;34m(\u001b[0m\u001b[0mc\u001b[0m\u001b[0;34m.\u001b[0m\u001b[0mendpoint_id\u001b[0m\u001b[0;34m,\u001b[0m \u001b[0mtraceback\u001b[0m\u001b[0;34m.\u001b[0m\u001b[0mformat_exc\u001b[0m\u001b[0;34m(\u001b[0m\u001b[0;34m)\u001b[0m\u001b[0;34m)\u001b[0m\u001b[0;34m)\u001b[0m\u001b[0;34m\u001b[0m\u001b[0;34m\u001b[0m\u001b[0m\n",
      "\u001b[0;32m/opt/ros/noetic/lib/python3/dist-packages/rospy/impl/tcpros_pubsub.py\u001b[0m in \u001b[0;36mwrite_data\u001b[0;34m(self, data)\u001b[0m\n\u001b[1;32m    418\u001b[0m             \u001b[0mself\u001b[0m\u001b[0;34m.\u001b[0m\u001b[0m_cond_data_available\u001b[0m\u001b[0;34m.\u001b[0m\u001b[0mnotify\u001b[0m\u001b[0;34m(\u001b[0m\u001b[0;34m)\u001b[0m\u001b[0;34m\u001b[0m\u001b[0;34m\u001b[0m\u001b[0m\n\u001b[1;32m    419\u001b[0m         \u001b[0;31m# effectively yields the rest of the thread quantum\u001b[0m\u001b[0;34m\u001b[0m\u001b[0;34m\u001b[0m\u001b[0;34m\u001b[0m\u001b[0m\n\u001b[0;32m--> 420\u001b[0;31m         \u001b[0mtime\u001b[0m\u001b[0;34m.\u001b[0m\u001b[0msleep\u001b[0m\u001b[0;34m(\u001b[0m\u001b[0;36m0\u001b[0m\u001b[0;34m)\u001b[0m\u001b[0;34m\u001b[0m\u001b[0;34m\u001b[0m\u001b[0m\n\u001b[0m\u001b[1;32m    421\u001b[0m         \u001b[0;32mreturn\u001b[0m \u001b[0;32mTrue\u001b[0m\u001b[0;34m\u001b[0m\u001b[0;34m\u001b[0m\u001b[0m\n\u001b[1;32m    422\u001b[0m \u001b[0;34m\u001b[0m\u001b[0m\n",
      "\u001b[0;31mKeyboardInterrupt\u001b[0m: "
     ]
    }
   ],
   "source": [
    "srv = Task()\n",
    "srv.x=8\n",
    "srv.y=7\n",
    "nowy_robot.go_to_goal_and_do_circle(srv)"
   ]
  },
  {
   "cell_type": "markdown",
   "metadata": {},
   "source": [
    "## Dodatek"
   ]
  },
  {
   "cell_type": "markdown",
   "metadata": {},
   "source": [
    "Tworzenie własnych wiadomości serwisowych. W paczce znajduje się katalog srv w którym można utworzyć dodatkowe wiadomości serwisowe. Konfiguracja w przedstawionym dodatku ogranicza się do używania typów wiadomości z poniższego linku:\n",
    "\n",
    "http://docs.ros.org/en/melodic/api/std_msgs/html/index-msg.html"
   ]
  },
  {
   "cell_type": "code",
   "execution_count": null,
   "metadata": {},
   "outputs": [],
   "source": [
    "!rossrv show pkg_tsr/Task"
   ]
  },
  {
   "cell_type": "code",
   "execution_count": null,
   "metadata": {},
   "outputs": [],
   "source": [
    "!rosmsg show std_msgs/ColorRGBA"
   ]
  },
  {
   "cell_type": "markdown",
   "metadata": {},
   "source": [
    "Przykładowo rozbudowany serwis o wiadomość typu ColorRGBA może wyglądać następująco. "
   ]
  },
  {
   "cell_type": "raw",
   "metadata": {},
   "source": [
    "float64 x\n",
    "float64 y\n",
    "ColorRGBA my_color\n",
    "---\n",
    "string result"
   ]
  },
  {
   "cell_type": "markdown",
   "metadata": {},
   "source": [
    "Dodanie nowej wiadomości wymaga zmian w plikach konfiguracyjnych paczki. Ze względu na przyjęte uproszczenie w \n",
    "konfiguracji w paczce tsr_materials w pliku **CMakeLists.txt** w miejscu (od 57 linii):"
   ]
  },
  {
   "cell_type": "raw",
   "metadata": {},
   "source": [
    "## Generate services in the 'srv' folder\n",
    " add_service_files(\n",
    "   FILES\n",
    "   Task.srv\n",
    "   Nowy.srv\n",
    "#   Service2.srv\n",
    " )"
   ]
  },
  {
   "cell_type": "markdown",
   "metadata": {},
   "source": [
    "Należy dopisać nazwę swojego serwisu jak powyżej. Zamiast **Nowy.srv** należy podać nazwę serwisu pod jakim został on zapisany w katalogu srv."
   ]
  },
  {
   "cell_type": "code",
   "execution_count": null,
   "metadata": {},
   "outputs": [],
   "source": [
    "!rossrv show pkg_tsr/... #uzupelnic nazwa nowego serwisu, jesli wszystko zostalo prawidlowo utworzone \n",
    "# powinna pojawic sie jego struktura"
   ]
  }
 ],
 "metadata": {
  "kernelspec": {
   "display_name": "Python 3",
   "language": "python",
   "name": "python3"
  },
  "language_info": {
   "codemirror_mode": {
    "name": "ipython",
    "version": 3
   },
   "file_extension": ".py",
   "mimetype": "text/x-python",
   "name": "python",
   "nbconvert_exporter": "python",
   "pygments_lexer": "ipython3",
   "version": "3.8.5"
  }
 },
 "nbformat": 4,
 "nbformat_minor": 4
}
