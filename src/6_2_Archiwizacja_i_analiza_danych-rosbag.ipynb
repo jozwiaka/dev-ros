{
 "cells": [
  {
   "cell_type": "markdown",
   "id": "eight-estonia",
   "metadata": {},
   "source": [
    "# Bag\n",
    "Jest to format danych przechowujący informacje o wiadomościach, które zostały wybrane do zarejestrowania w trakcie działania jakiegoś procesu np. monitorowanie zmiany położenia w czasie, zbieranie danych z czujników. Zebrane dane mogą być później użyte do testowania różnych algorytmów np. do wyznaczania odometrii na podstawie fuzji danych z sensorów, testowania różnych parametrów algorytmów do mapowania terenu.\n",
    "\n",
    "Do utworzenia bag'a wykorzystywane jest narzędzie rosbag umożliwiające rejestrowanie wiadomości ROS. Takie podejście umożliwia odtwarzanie i dostarczanie danych do systemu w taki sam sposób w jaki się pojawiają przy użyciu node'ów. \n",
    "\n",
    "Dostępne komendy dla polecenia rosbag."
   ]
  },
  {
   "cell_type": "code",
   "execution_count": 1,
   "id": "funky-constitution",
   "metadata": {},
   "outputs": [
    {
     "name": "stdout",
     "output_type": "stream",
     "text": [
      "Usage: rosbag <subcommand> [options] [args]\r\n",
      "\r\n",
      "A bag is a file format in ROS for storing ROS message data. The rosbag command can record, replay and manipulate bags.\r\n",
      "\r\n",
      "Available subcommands:\r\n",
      "   check  \tDetermine whether a bag is playable in the current system, or if it can be migrated.\r\n",
      "   compress  \tCompress one or more bag files.\r\n",
      "   decompress  \tDecompress one or more bag files.\r\n",
      "   decrypt  \tDecrypt one or more bag files.\r\n",
      "   encrypt  \tEncrypt one or more bag files.\r\n",
      "   filter  \tFilter the contents of the bag.\r\n",
      "   fix  \tRepair the messages in a bag file so that it can be played in the current system.\r\n",
      "   help  \r\n",
      "   info  \tSummarize the contents of one or more bag files.\r\n",
      "   play  \tPlay back the contents of one or more bag files in a time-synchronized fashion.\r\n",
      "   record  \tRecord a bag file with the contents of specified topics.\r\n",
      "   reindex  \tReindexes one or more bag files.\r\n",
      "\r\n",
      "For additional information, see http://wiki.ros.org/rosbag\r\n",
      "\r\n"
     ]
    }
   ],
   "source": [
    "!rosbag --help"
   ]
  },
  {
   "cell_type": "markdown",
   "id": "subsequent-liberia",
   "metadata": {},
   "source": [
    "Szczegółowe informacje o dostępnych możliwościach polecenia można znaleźć na stronie.\n",
    "http://wiki.ros.org/rosbag/Commandline\n",
    "\n",
    "Rejestrowane mogą być nie tylko wszystkie dane jednocześnie tak ja się pojawiają w systemie, ale mamy możliwość wybrania sposobu jak mają być zarejestrowane. Można zarejestrować m.in.:\n",
    "- pojedyncze wiadomości (oddzielne nazwy topicow)\n",
    "- wiadomości spełniające okreslone kryteria (-e (regex), -x (exclude_regex) z podanym kryterium filtracji)\n",
    "- rosbaga o określonym czasie trwania (--duration)\n",
    "- rosbaga o określonym rozmiarze (--size)\n",
    "- podział baga na mniejszy plik gdy czas trwania lub rozmiar zostanie przekroczony (--split)\n",
    "- rozbaga o określonym prefixie w nazwie (-o) oraz o podanej nazwie (-O)\n",
    "- maksymalna liczba zarejestrowanych danych, starsze pliki będą kasowane (--max-splits)\n",
    "- topici z określonego node'a (--node)\n",
    "\n",
    "### Rejestrowanie danych\n",
    "Najczęściej będzie wykorzystane polecenie wpisywane w terminalu:"
   ]
  },
  {
   "cell_type": "raw",
   "id": "alone-nickel",
   "metadata": {},
   "source": [
    "rosbag record NAZWA_TOPICU1 NAZWA_TOPICU2"
   ]
  },
  {
   "cell_type": "markdown",
   "id": "equal-balloon",
   "metadata": {},
   "source": [
    "#### Zadanie 1\n",
    "Zarejestrować rosbaga dla topiców od położenia robotów. Przerwać nagrywanie po wykonaniu pełnego okrążenia przez najwolniejszego robota. Wywołać polecenie terminala w jupyter notebook, czyli z (!). \n",
    "Zarejestrowany rosbag będzie wykorzystany w dalszych ćwiczeniach i nie powinien być usuwany."
   ]
  },
  {
   "cell_type": "code",
   "execution_count": null,
   "id": "compliant-preliminary",
   "metadata": {},
   "outputs": [],
   "source": [
    "!"
   ]
  },
  {
   "cell_type": "code",
   "execution_count": null,
   "id": "impaired-charm",
   "metadata": {},
   "outputs": [],
   "source": [
    "!ls # wyświetlenie wszystkich plików z folderu"
   ]
  },
  {
   "cell_type": "markdown",
   "id": "digital-uncertainty",
   "metadata": {},
   "source": [
    "#### Zadanie 2\n",
    "Korzystając z dokumentacji nagrać 20 sekundowego rosbaga o dowolnej podanej nazwie nie generowanej domyślnie jako data i godzina. Również zarejestrować informacje dla położeń. Wywołać polecenie terminala w jupyter notebook, czyli z (!)."
   ]
  },
  {
   "cell_type": "code",
   "execution_count": null,
   "id": "commercial-architect",
   "metadata": {},
   "outputs": [],
   "source": [
    "!"
   ]
  },
  {
   "cell_type": "code",
   "execution_count": null,
   "id": "black-timing",
   "metadata": {},
   "outputs": [],
   "source": [
    "!ls"
   ]
  },
  {
   "cell_type": "code",
   "execution_count": null,
   "id": "reflected-digit",
   "metadata": {},
   "outputs": [],
   "source": [
    "!rm nazwa_pliku #usuwa wybrany plik, można usunąć zarejestrowanego baga"
   ]
  },
  {
   "cell_type": "markdown",
   "id": "casual-wayne",
   "metadata": {},
   "source": [
    "#### Zadanie 3\n",
    "Zarejestrować te same dane. Tym razem rosbag powinien być dzielony na mniejsze 5 sekundowe fragmenty. Należy przechowywać w historii 4 bagi oprócz aktualnie zgrywanego (łącznie powinno być widocznych 5 po przerwaniu działania polecenia). Pozostałe powinny być usuwane. Nazwa powinna zawierać dowolny prefix np. dzielony_bag_ograniczony. Wywołać polecenie terminala w jupyter notebook, czyli z (!). Przerwać rejestrowanie po wyświetleniu co najmniej 6 bagów i zweryfikować działanie polecenia."
   ]
  },
  {
   "cell_type": "code",
   "execution_count": 6,
   "id": "considered-windows",
   "metadata": {},
   "outputs": [
    {
     "name": "stdout",
     "output_type": "stream",
     "text": [
      "\u001b[0m[ INFO] [1619507004.567714200]: Subscribing to /robot3/color_sensor\u001b[0m\n",
      "\u001b[0m[ INFO] [1619507004.596513200]: Recording to '2021-04-27-07-03-24.bag'.\u001b[0m\n",
      "^C\n"
     ]
    }
   ],
   "source": [
    "!rosbag record /robot3/color_sensor"
   ]
  },
  {
   "cell_type": "code",
   "execution_count": 7,
   "id": "enormous-matrix",
   "metadata": {},
   "outputs": [
    {
     "name": "stdout",
     "output_type": "stream",
     "text": [
      "\u001b[0m[ INFO] [1619507025.749318900]: Opening 2021-04-27-07-03-24.bag\u001b[0m\n",
      "\u001b[31m[FATAL] [1619507025.924641100]: Error opening file: 2021-04-27-07-03-24.bag\u001b[0m\n"
     ]
    }
   ],
   "source": [
    "!rosbag play \"2021-04-27-07-03-24.bag\""
   ]
  },
  {
   "cell_type": "code",
   "execution_count": 11,
   "id": "attractive-minnesota",
   "metadata": {},
   "outputs": [
    {
     "ename": "ROSBagUnindexedException",
     "evalue": "Unindexed bag",
     "output_type": "error",
     "traceback": [
      "\u001b[0;31m---------------------------------------------------------------------------\u001b[0m",
      "\u001b[0;31mROSBagUnindexedException\u001b[0m                  Traceback (most recent call last)",
      "\u001b[0;32m/opt/ros/noetic/lib/python3/dist-packages/rosbag/bag.py\u001b[0m in \u001b[0;36mstart_reading\u001b[0;34m(self)\u001b[0m\n\u001b[1;32m   2644\u001b[0m             \u001b[0;32mif\u001b[0m \u001b[0mself\u001b[0m\u001b[0;34m.\u001b[0m\u001b[0mbag\u001b[0m\u001b[0;34m.\u001b[0m\u001b[0m_index_data_pos\u001b[0m \u001b[0;34m==\u001b[0m \u001b[0;36m0\u001b[0m\u001b[0;34m:\u001b[0m\u001b[0;34m\u001b[0m\u001b[0;34m\u001b[0m\u001b[0m\n\u001b[0;32m-> 2645\u001b[0;31m                 \u001b[0;32mraise\u001b[0m \u001b[0mROSBagUnindexedException\u001b[0m\u001b[0;34m(\u001b[0m\u001b[0;34m)\u001b[0m\u001b[0;34m\u001b[0m\u001b[0;34m\u001b[0m\u001b[0m\n\u001b[0m\u001b[1;32m   2646\u001b[0m \u001b[0;34m\u001b[0m\u001b[0m\n",
      "\u001b[0;31mROSBagUnindexedException\u001b[0m: Unindexed bag",
      "\nDuring handling of the above exception, another exception occurred:\n",
      "\u001b[0;31mROSBagUnindexedException\u001b[0m                  Traceback (most recent call last)",
      "\u001b[0;32m<ipython-input-11-7286fdc78fcf>\u001b[0m in \u001b[0;36m<module>\u001b[0;34m\u001b[0m\n\u001b[1;32m      1\u001b[0m \u001b[0;31m#shift + tab\u001b[0m\u001b[0;34m\u001b[0m\u001b[0;34m\u001b[0m\u001b[0;34m\u001b[0m\u001b[0m\n\u001b[1;32m      2\u001b[0m \u001b[0;32mimport\u001b[0m \u001b[0mrosbag\u001b[0m\u001b[0;34m\u001b[0m\u001b[0;34m\u001b[0m\u001b[0m\n\u001b[0;32m----> 3\u001b[0;31m \u001b[0mpaczka_sensory\u001b[0m \u001b[0;34m=\u001b[0m \u001b[0mrosbag\u001b[0m\u001b[0;34m.\u001b[0m\u001b[0mBag\u001b[0m\u001b[0;34m(\u001b[0m\u001b[0;34m\"2021-04-27-07-03-24.bag.active\"\u001b[0m\u001b[0;34m)\u001b[0m\u001b[0;34m\u001b[0m\u001b[0;34m\u001b[0m\u001b[0m\n\u001b[0m",
      "\u001b[0;32m/opt/ros/noetic/lib/python3/dist-packages/rosbag/bag.py\u001b[0m in \u001b[0;36m__init__\u001b[0;34m(self, f, mode, compression, chunk_threshold, allow_unindexed, options, skip_index)\u001b[0m\n\u001b[1;32m    465\u001b[0m         \u001b[0mself\u001b[0m\u001b[0;34m.\u001b[0m\u001b[0m_encryptor\u001b[0m \u001b[0;34m=\u001b[0m \u001b[0m_ROSBagNoEncryptor\u001b[0m\u001b[0;34m(\u001b[0m\u001b[0;34m)\u001b[0m\u001b[0;34m\u001b[0m\u001b[0;34m\u001b[0m\u001b[0m\n\u001b[1;32m    466\u001b[0m \u001b[0;34m\u001b[0m\u001b[0m\n\u001b[0;32m--> 467\u001b[0;31m         \u001b[0mself\u001b[0m\u001b[0;34m.\u001b[0m\u001b[0m_open\u001b[0m\u001b[0;34m(\u001b[0m\u001b[0mf\u001b[0m\u001b[0;34m,\u001b[0m \u001b[0mmode\u001b[0m\u001b[0;34m,\u001b[0m \u001b[0mallow_unindexed\u001b[0m\u001b[0;34m)\u001b[0m\u001b[0;34m\u001b[0m\u001b[0;34m\u001b[0m\u001b[0m\n\u001b[0m\u001b[1;32m    468\u001b[0m \u001b[0;34m\u001b[0m\u001b[0m\n\u001b[1;32m    469\u001b[0m         \u001b[0mself\u001b[0m\u001b[0;34m.\u001b[0m\u001b[0m_output_file\u001b[0m \u001b[0;34m=\u001b[0m \u001b[0mself\u001b[0m\u001b[0;34m.\u001b[0m\u001b[0m_file\u001b[0m\u001b[0;34m\u001b[0m\u001b[0;34m\u001b[0m\u001b[0m\n",
      "\u001b[0;32m/opt/ros/noetic/lib/python3/dist-packages/rosbag/bag.py\u001b[0m in \u001b[0;36m_open\u001b[0;34m(self, f, mode, allow_unindexed)\u001b[0m\n\u001b[1;32m   1426\u001b[0m \u001b[0;34m\u001b[0m\u001b[0m\n\u001b[1;32m   1427\u001b[0m         \u001b[0;32mtry\u001b[0m\u001b[0;34m:\u001b[0m\u001b[0;34m\u001b[0m\u001b[0;34m\u001b[0m\u001b[0m\n\u001b[0;32m-> 1428\u001b[0;31m             \u001b[0;32mif\u001b[0m   \u001b[0mmode\u001b[0m \u001b[0;34m==\u001b[0m \u001b[0;34m'r'\u001b[0m\u001b[0;34m:\u001b[0m \u001b[0mself\u001b[0m\u001b[0;34m.\u001b[0m\u001b[0m_open_read\u001b[0m\u001b[0;34m(\u001b[0m\u001b[0mf\u001b[0m\u001b[0;34m,\u001b[0m \u001b[0mallow_unindexed\u001b[0m\u001b[0;34m)\u001b[0m\u001b[0;34m\u001b[0m\u001b[0;34m\u001b[0m\u001b[0m\n\u001b[0m\u001b[1;32m   1429\u001b[0m             \u001b[0;32melif\u001b[0m \u001b[0mmode\u001b[0m \u001b[0;34m==\u001b[0m \u001b[0;34m'w'\u001b[0m\u001b[0;34m:\u001b[0m \u001b[0mself\u001b[0m\u001b[0;34m.\u001b[0m\u001b[0m_open_write\u001b[0m\u001b[0;34m(\u001b[0m\u001b[0mf\u001b[0m\u001b[0;34m)\u001b[0m\u001b[0;34m\u001b[0m\u001b[0;34m\u001b[0m\u001b[0m\n\u001b[1;32m   1430\u001b[0m             \u001b[0;32melif\u001b[0m \u001b[0mmode\u001b[0m \u001b[0;34m==\u001b[0m \u001b[0;34m'a'\u001b[0m\u001b[0;34m:\u001b[0m \u001b[0mself\u001b[0m\u001b[0;34m.\u001b[0m\u001b[0m_open_append\u001b[0m\u001b[0;34m(\u001b[0m\u001b[0mf\u001b[0m\u001b[0;34m,\u001b[0m \u001b[0mallow_unindexed\u001b[0m\u001b[0;34m)\u001b[0m\u001b[0;34m\u001b[0m\u001b[0;34m\u001b[0m\u001b[0m\n",
      "\u001b[0;32m/opt/ros/noetic/lib/python3/dist-packages/rosbag/bag.py\u001b[0m in \u001b[0;36m_open_read\u001b[0;34m(self, f, allow_unindexed)\u001b[0m\n\u001b[1;32m   1462\u001b[0m         \u001b[0;32mtry\u001b[0m\u001b[0;34m:\u001b[0m\u001b[0;34m\u001b[0m\u001b[0;34m\u001b[0m\u001b[0m\n\u001b[1;32m   1463\u001b[0m             \u001b[0mself\u001b[0m\u001b[0;34m.\u001b[0m\u001b[0m_create_reader\u001b[0m\u001b[0;34m(\u001b[0m\u001b[0;34m)\u001b[0m\u001b[0;34m\u001b[0m\u001b[0;34m\u001b[0m\u001b[0m\n\u001b[0;32m-> 1464\u001b[0;31m             \u001b[0mself\u001b[0m\u001b[0;34m.\u001b[0m\u001b[0m_reader\u001b[0m\u001b[0;34m.\u001b[0m\u001b[0mstart_reading\u001b[0m\u001b[0;34m(\u001b[0m\u001b[0;34m)\u001b[0m\u001b[0;34m\u001b[0m\u001b[0;34m\u001b[0m\u001b[0m\n\u001b[0m\u001b[1;32m   1465\u001b[0m         \u001b[0;32mexcept\u001b[0m \u001b[0mROSBagUnindexedException\u001b[0m \u001b[0;32mas\u001b[0m \u001b[0mex\u001b[0m\u001b[0;34m:\u001b[0m\u001b[0;34m\u001b[0m\u001b[0;34m\u001b[0m\u001b[0m\n\u001b[1;32m   1466\u001b[0m             \u001b[0;32mif\u001b[0m \u001b[0;32mnot\u001b[0m \u001b[0mallow_unindexed\u001b[0m\u001b[0;34m:\u001b[0m\u001b[0;34m\u001b[0m\u001b[0;34m\u001b[0m\u001b[0m\n",
      "\u001b[0;32m/opt/ros/noetic/lib/python3/dist-packages/rosbag/bag.py\u001b[0m in \u001b[0;36mstart_reading\u001b[0;34m(self)\u001b[0m\n\u001b[1;32m   2673\u001b[0m             \u001b[0;32mraise\u001b[0m\u001b[0;34m\u001b[0m\u001b[0;34m\u001b[0m\u001b[0m\n\u001b[1;32m   2674\u001b[0m         \u001b[0;32mexcept\u001b[0m \u001b[0mException\u001b[0m \u001b[0;32mas\u001b[0m \u001b[0mex\u001b[0m\u001b[0;34m:\u001b[0m\u001b[0;34m\u001b[0m\u001b[0;34m\u001b[0m\u001b[0m\n\u001b[0;32m-> 2675\u001b[0;31m             \u001b[0;32mraise\u001b[0m \u001b[0mROSBagUnindexedException\u001b[0m\u001b[0;34m(\u001b[0m\u001b[0;34m)\u001b[0m\u001b[0;34m\u001b[0m\u001b[0;34m\u001b[0m\u001b[0m\n\u001b[0m\u001b[1;32m   2676\u001b[0m \u001b[0;34m\u001b[0m\u001b[0m\n\u001b[1;32m   2677\u001b[0m     \u001b[0;32mdef\u001b[0m \u001b[0m_read_connection_index_records\u001b[0m\u001b[0;34m(\u001b[0m\u001b[0mself\u001b[0m\u001b[0;34m)\u001b[0m\u001b[0;34m:\u001b[0m\u001b[0;34m\u001b[0m\u001b[0;34m\u001b[0m\u001b[0m\n",
      "\u001b[0;31mROSBagUnindexedException\u001b[0m: Unindexed bag"
     ]
    }
   ],
   "source": [
    "#shift + tab\n",
    "import rosbag\n",
    "paczka_sensory = rosbag.Bag(\"2021-04-27-07-03-24.bag.active\")"
   ]
  },
  {
   "cell_type": "code",
   "execution_count": null,
   "id": "portable-lightweight",
   "metadata": {},
   "outputs": [],
   "source": [
    "paczka_sensory.get_message_count()"
   ]
  },
  {
   "cell_type": "code",
   "execution_count": null,
   "id": "excited-volleyball",
   "metadata": {},
   "outputs": [],
   "source": [
    "for wiad in paczka_sesnory.read_messages():\n",
    "    print(wiad)"
   ]
  },
  {
   "cell_type": "markdown",
   "id": "rolled-constitutional",
   "metadata": {},
   "source": [
    "- It works:"
   ]
  },
  {
   "attachments": {
    "image.png": {
     "image/png": "[encoded data removed]"
    }
   },
   "cell_type": "markdown",
   "id": "retired-elevation",
   "metadata": {},
   "source": [
    "![image.png](attachment:image.png)"
   ]
  },
  {
   "cell_type": "code",
   "execution_count": null,
   "id": "acknowledged-universe",
   "metadata": {},
   "outputs": [],
   "source": [
    "#rosbag record /robort3/color_sensor"
   ]
  },
  {
   "cell_type": "code",
   "execution_count": null,
   "id": "obvious-charity",
   "metadata": {},
   "outputs": [],
   "source": [
    "#rosbag play"
   ]
  },
  {
   "cell_type": "code",
   "execution_count": null,
   "id": "atmospheric-bahrain",
   "metadata": {},
   "outputs": [],
   "source": [
    "!ls"
   ]
  },
  {
   "cell_type": "markdown",
   "id": "protected-science",
   "metadata": {},
   "source": [
    "### Wyświetlanie informacji\n",
    "W terminalu do wyświetlenia informacji o bagu używamy polecenia:\n",
    "\n",
    "rosbag info nazwa_baga"
   ]
  },
  {
   "cell_type": "code",
   "execution_count": null,
   "id": "skilled-nightmare",
   "metadata": {},
   "outputs": [],
   "source": [
    "#Wyświetlić informację o jednym z zarejestrowanych bagów. Wywołać polecenie jak w terminalu (!).\n",
    "!rosbag info ... #wpisać nazwę jakiegos baga"
   ]
  },
  {
   "cell_type": "markdown",
   "id": "operating-pilot",
   "metadata": {},
   "source": [
    "### Odtwarzanie rosbaga\n",
    "Do odtworzenia zarejestrowanych prędkości sterujących robotów i sprawdzenia ich zachowania najpierw należy zarejestrować dane. "
   ]
  },
  {
   "cell_type": "code",
   "execution_count": null,
   "id": "outside-summit",
   "metadata": {},
   "outputs": [],
   "source": [
    "# Uzupłnić w miejscu ... parametrami odpowiadającymi za ustawienie nazwy \n",
    "# (np. velocities) i czas trwania baga (np. 10s)\n",
    "!rosbag record ... /robot1/cmd_vel /robot2/cmd_vel /robot3/cmd_vel"
   ]
  },
  {
   "cell_type": "markdown",
   "id": "national-transsexual",
   "metadata": {},
   "source": [
    "Należy wylączyć skrypt (6_1_Archiwizacja_i_analiza_danych-symulacja.ipynb) odpowiedzialny za ruch robotów. Zrestartować symulację:"
   ]
  },
  {
   "cell_type": "code",
   "execution_count": null,
   "id": "separated-negative",
   "metadata": {},
   "outputs": [],
   "source": [
    "!rosservice call /reset\n",
    "!rosservice call /kill turtle1\n",
    "!rosservice call /spawn 5.5 4 0 robot1\n",
    "!rosservice call /spawn 5.5 2.5 0 robot2\n",
    "!rosservice call /spawn 5.5 1 0 robot3"
   ]
  },
  {
   "cell_type": "markdown",
   "id": "polished-leave",
   "metadata": {},
   "source": [
    "W terminalu do odgrywania informacji o bagu używamy polecenia:\n",
    "\n",
    "rosbag play nazwa_rosbaga"
   ]
  },
  {
   "cell_type": "code",
   "execution_count": null,
   "id": "common-light",
   "metadata": {},
   "outputs": [],
   "source": [
    "#Wyświetlić informację o jednym z zarejestrowanych bagów. Wywołać polecenie jak w terminalu (!).\n",
    "!rosbag play ... # Wpisać nazwę zarejestrowanego baga z prędkościami"
   ]
  },
  {
   "cell_type": "markdown",
   "id": "military-balloon",
   "metadata": {},
   "source": [
    "### Odczyt i analiza danych\n",
    "Link do wiki zawierającego więcej szczegółowych informacji i przykładów.\n",
    "http://wiki.ros.org/rosbag/CookbookCookbook\n",
    "\n",
    "#### Odczytanie listy topiców wraz z typem"
   ]
  },
  {
   "cell_type": "code",
   "execution_count": null,
   "id": "democratic-rubber",
   "metadata": {},
   "outputs": [],
   "source": [
    "import rosbag\n",
    "bag_name = ... # Podać nazwę zarejestrowanego baga z Zadania 1\n",
    "bag = rosbag.Bag(bag_name) \n",
    "print(\"Surowe dane o topicach i ich typach \\n\")\n",
    "print(bag.get_type_and_topic_info())\n",
    "print(\"------------\")\n",
    "\n",
    "print(\"Zarejestrowane: \\n\")\n",
    "for data in bag.get_type_and_topic_info()[1].keys():\n",
    "    print(data)\n",
    "print(\"------------\")\n",
    "\n",
    "print(\"topic wraz z typem \\n\")\n",
    "print(\"nazwa          typ\")\n",
    "for data in bag.get_type_and_topic_info()[1].keys():\n",
    "    print(data + \"   \" + bag.get_type_and_topic_info()[1][data][0])\n",
    "\n",
    "print(\"------------\")\n",
    "print(\"Typ wiadomosci\\n\")\n",
    "\n",
    "!rosmsg info turtlesim/Pose"
   ]
  },
  {
   "cell_type": "markdown",
   "id": "hollow-marsh",
   "metadata": {},
   "source": [
    "#### Ograniczenie liczby wiadomości w bagu"
   ]
  },
  {
   "cell_type": "code",
   "execution_count": null,
   "id": "likely-intermediate",
   "metadata": {},
   "outputs": [],
   "source": [
    "import rosbag\n",
    "\n",
    "num_msgs = 100 # ograniczenie do 100 wiadomości\n",
    "\n",
    "with rosbag.Bag('output.bag', 'w') as outbag:\n",
    "    bag_name = ... # Podać nazwę zarejestrowanego baga z Zadania 1 \n",
    "    for topic, msg, t in rosbag.Bag(bag_name).read_messages():\n",
    "        while num_msgs:\n",
    "            outbag.write(topic, msg, t)\n",
    "            num_msgs -= 1\n",
    "\n",
    "bag = rosbag.Bag('output.bag')\n",
    "print(\"Surowe dane o topicach i ich typach \\n\")\n",
    "print(bag.get_type_and_topic_info()) # w message_count (liczba wiadomości) \n",
    "                                     # powinna pojawić się wartość 100"
   ]
  },
  {
   "cell_type": "markdown",
   "id": "satisfied-vermont",
   "metadata": {},
   "source": [
    "Po przepisaniu i ograniczeniu wiadomości powinien pojawić się nowy bag o nazwie \"output.bag\""
   ]
  },
  {
   "cell_type": "code",
   "execution_count": null,
   "id": "arbitrary-pound",
   "metadata": {},
   "outputs": [],
   "source": [
    "!ls "
   ]
  },
  {
   "cell_type": "markdown",
   "id": "liable-reach",
   "metadata": {},
   "source": [
    "### Export danych do CSV"
   ]
  },
  {
   "cell_type": "code",
   "execution_count": null,
   "id": "developed-drill",
   "metadata": {},
   "outputs": [],
   "source": [
    "import csv # biblioteka do obsługi plików CSV\n",
    "import rosbag\n",
    "import rospy\n",
    "\n",
    "bag_name = ... # Podać nazwę zarejestrowanego baga z Zadania 1\n",
    "\n",
    "def create_pose_csv_file(bag_name, file_name, pose_topic_name):\n",
    "    # Utworzenie pliku o podanej nazwie file_name i zapisywanie danych do pliku\n",
    "    bag = rosbag.Bag(bag_name)\n",
    "    with open(file_name, mode='w') as data_file:\n",
    "        data_writer = csv.writer(data_file, delimiter=',')\n",
    "        # Ustawienie nagłówka\n",
    "        data_writer.writerow(['pose x', 'pose y']) \n",
    "\n",
    "        # W każdej iteracji pętli odczytywana jest kolejna wiadomość, która pojawiła\n",
    "        # się na topicu /robot1/pose\n",
    "        for topic, msg, t in bag.read_messages(topics=[pose_topic_name]):\n",
    "            # Zapis położenia x,y robota do pliku\n",
    "            data_writer.writerow([msg.x, msg.y])\n",
    "    bag.close()\n",
    "\n",
    "# Utworzenie plikow z danymi dla robota 1 i 2\n",
    "create_pose_csv_file(bag_name, 'pose_data_robot_1.csv', '/robot1/pose')\n",
    "create_pose_csv_file(bag_name, 'pose_data_robot_2.csv', '/robot2/pose')"
   ]
  },
  {
   "cell_type": "markdown",
   "id": "controversial-hypothetical",
   "metadata": {},
   "source": [
    "### Odczyt danych z pliku CSV i generowanie wykresu"
   ]
  },
  {
   "cell_type": "code",
   "execution_count": null,
   "id": "loving-crack",
   "metadata": {},
   "outputs": [],
   "source": [
    "import csv \n",
    "\n",
    "def get_robot_pose(file_name):\n",
    "    # Zmienne x,y przechowujące informacje o położeniu robota.\n",
    "    x = []\n",
    "    y = []\n",
    "    # Otworzenie zapisanego pliku\n",
    "    with open(file_name) as csv_file:\n",
    "        csv_reader = csv.reader(csv_file, delimiter=',')\n",
    "        line_count = 0\n",
    "        # Pętla do iteracji po kolejnych wierszach pliku\n",
    "        for row in csv_reader:\n",
    "            if line_count == 0:\n",
    "                #print(\"{}    {}\".format(row[0], row[1]))\n",
    "                line_count += 1\n",
    "            else:\n",
    "                #print(\" {:.2f}      {:.2f} \".format(float(row[0]),float(row[1])))\n",
    "                line_count += 1\n",
    "                # Dopisanie na końcu listy kolejnego odczytanego położenia x, y\n",
    "                x.append(float(row[0]))\n",
    "                y.append(float(row[1]))\n",
    "    return x, y\n",
    "\n",
    "# Odebranie informacji oddzielnie o położeniu x,y z powyższej funkcji zwracającej oddzielnie\n",
    "# listę dla współrzędnych x i y.\n",
    "pose_r1 = get_robot_pose('pose_data_robot_1.csv')\n",
    "x = pose_r1[0]\n",
    "y = pose_r1[1]"
   ]
  },
  {
   "cell_type": "code",
   "execution_count": null,
   "id": "coral-terminology",
   "metadata": {},
   "outputs": [],
   "source": [
    "import matplotlib.pyplot as plt\n",
    "# Odczyt danych o położeniu dla robota 1 i2 \n",
    "pose_r1 = get_robot_pose('pose_data_robot_1.csv')\n",
    "pose_r2 = get_robot_pose('pose_data_robot_2.csv')\n",
    "# dane do wyświetlenia\n",
    "path1, = plt.plot(pose_r1[0],pose_r1[1], label=\"robot1\")\n",
    "path2, = plt.plot(pose_r2[0],pose_r2[1], label=\"robot2\")\n",
    "# ustawienie legendy\n",
    "plt.legend(handles=[path1,path2])\n",
    "# ustawienie nazw osi\n",
    "plt.xlabel(\"x pose\")\n",
    "plt.ylabel(\"y pose\")\n",
    "#ustawienie tutułu wykresu\n",
    "plt.title(\"Polozenia robotow\")\n",
    "# wyświetlenie wykresu\n",
    "plt.show()"
   ]
  },
  {
   "cell_type": "markdown",
   "id": "direct-ebony",
   "metadata": {},
   "source": [
    "#### Zadanie 4\n",
    "Wygenerować wykres dla baga z prędkościami dla 3 robotów. Kolejne kroki do wykonania:\n",
    "1. Zarejestrowanie rosbaga z prędkościami (w ćwiczeniach pojawił się, ale jeśli został usunięty to nagrać jeszcze raz)\n",
    "2. Analogicznie do funkcji **create_pose_csv_file(bag_name, file_name, pose_topic_name)** odpowiadającej za tworzenie plików z informacją o położeniach robotów napisać funkcję do tworzenia plików zawierających informacje o prędkościach sterujących robotów.\n",
    "- zmienić nazwę nagłowka przy zapisie do pliku, w jednej kolumnie są zapisywane prędkości postępowe (liniowa x), a w drugiej obrotowe (kątowa z)\n",
    "- sprawdzić typ wiadomości dla prędkości i jej strukturę\n",
    "- na podstawie tej informacji zmienić przy zapisie odczyt odtrzymanych informacji w zmiennej **msg**\n",
    "3. Analogicznie do funkcji **get_robot_pose(file_name)** odpowiadającej za odczyt danych z plików o położeniu napisać funkcję do odczytu informacji o prędkościach postępowych i obrotowych. Zmienić nazwy i komentarze tak, aby nazwy odnosiły się do prędkości.\n",
    "4. Narysować wykresy oddzielnie dla prędkości postępowej i obrotowej\n",
    "- zmienić nazwy osi, tytuł wykresu\n",
    "- na osi x znajduje się index kolejnej wiadomości\n",
    "- na osi y pojawia się wartość prędkości\n",
    "- Użycie metody plot z jednym argumentem spowoduje wyświetlenie odczytanych wartości na osi Y, a na osi X będą kolejne wartości odpowiadające indeksowi odczytanej wartości. \n",
    "\n",
    "**plt.plot(data_value, label=\"robot1\")**"
   ]
  },
  {
   "cell_type": "code",
   "execution_count": null,
   "id": "favorite-hospital",
   "metadata": {},
   "outputs": [],
   "source": []
  }
 ],
 "metadata": {
  "kernelspec": {
   "display_name": "Python 3",
   "language": "python",
   "name": "python3"
  },
  "language_info": {
   "codemirror_mode": {
    "name": "ipython",
    "version": 3
   },
   "file_extension": ".py",
   "mimetype": "text/x-python",
   "name": "python",
   "nbconvert_exporter": "python",
   "pygments_lexer": "ipython3",
   "version": "3.8.5"
  }
 },
 "nbformat": 4,
 "nbformat_minor": 5
}
