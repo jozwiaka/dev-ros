{
 "cells": [
  {
   "cell_type": "code",
   "execution_count": 30,
   "id": "integral-peoples",
   "metadata": {},
   "outputs": [],
   "source": [
    "class Empty:\n",
    "    pass"
   ]
  },
  {
   "cell_type": "code",
   "execution_count": 2,
   "id": "handmade-mambo",
   "metadata": {},
   "outputs": [],
   "source": [
    "class Entity:\n",
    "    x=5"
   ]
  },
  {
   "cell_type": "code",
   "execution_count": 4,
   "id": "improving-bleeding",
   "metadata": {},
   "outputs": [
    {
     "name": "stdout",
     "output_type": "stream",
     "text": [
      "5\n"
     ]
    }
   ],
   "source": [
    "e=Entity()\n",
    "print(e.x)"
   ]
  },
  {
   "cell_type": "code",
   "execution_count": 74,
   "id": "impressive-theme",
   "metadata": {},
   "outputs": [],
   "source": [
    "class Person:\n",
    "    def __init__(self,name,age):\n",
    "        self.name=name\n",
    "        self.age=age\n",
    "        \n",
    "    def printName(self):\n",
    "        print(\"Hello my name is \"+self.name)"
   ]
  },
  {
   "cell_type": "code",
   "execution_count": 75,
   "id": "revolutionary-retrieval",
   "metadata": {},
   "outputs": [
    {
     "name": "stdout",
     "output_type": "stream",
     "text": [
      "Arek\n",
      "21\n",
      "Hello my name is Arek\n"
     ]
    }
   ],
   "source": [
    "p=Person(\"Arek\",21)\n",
    "\n",
    "print(p.name)\n",
    "print(p.age)\n",
    "p.printName()\n",
    "\n",
    "#del p.name\n",
    "#del p.age\n",
    "#del p"
   ]
  },
  {
   "cell_type": "code",
   "execution_count": 71,
   "id": "steady-diary",
   "metadata": {},
   "outputs": [],
   "source": [
    "#Inheritance:\n",
    "# Person = Parent class\n",
    "# Student = Child of Person\n",
    "class Student(Person): #Now Student has the same properties\n",
    "    def __init__(self,przedmiot,ocena): #Overrides the inheritance of the parent's __init__() function\n",
    "        self.przedmiot=przedmiot\n",
    "        self.ocena=ocena"
   ]
  },
  {
   "cell_type": "code",
   "execution_count": 54,
   "id": "varied-penny",
   "metadata": {},
   "outputs": [],
   "source": [
    "#Inheritance:\n",
    "# Person = Parent class\n",
    "# Student = Child of Person\n",
    "class Student(Person): #Now Student has the same properties\n",
    "    def __init__(self,sname,sage):\n",
    "        Person.__init__(self,sname,sage)"
   ]
  },
  {
   "cell_type": "code",
   "execution_count": 97,
   "id": "electric-inventory",
   "metadata": {},
   "outputs": [],
   "source": [
    "#super() function make the child class inherit all the methods and properties from its parent:\n",
    "class Student(Person):\n",
    "    def __init__(self, sname, sage, spec):\n",
    "        super().__init__(sname, sage)\n",
    "        self.specialization=spec\n",
    "\n",
    "    def getSpec(self):\n",
    "        print(self.specialization)"
   ]
  },
  {
   "cell_type": "code",
   "execution_count": 1,
   "id": "faced-theme",
   "metadata": {},
   "outputs": [
    {
     "ename": "NameError",
     "evalue": "name 'Student' is not defined",
     "output_type": "error",
     "traceback": [
      "\u001b[1;31m---------------------------------------------------------------------------\u001b[0m",
      "\u001b[1;31mNameError\u001b[0m                                 Traceback (most recent call last)",
      "\u001b[1;32m<ipython-input-1-1f9af4ec9f30>\u001b[0m in \u001b[0;36m<module>\u001b[1;34m\u001b[0m\n\u001b[1;32m----> 1\u001b[1;33m \u001b[0ms\u001b[0m\u001b[1;33m=\u001b[0m\u001b[0mStudent\u001b[0m\u001b[1;33m(\u001b[0m\u001b[1;34m\"Arek\"\u001b[0m\u001b[1;33m,\u001b[0m\u001b[1;36m21\u001b[0m\u001b[1;33m,\u001b[0m\u001b[1;34m\"Math\"\u001b[0m\u001b[1;33m)\u001b[0m\u001b[1;33m\u001b[0m\u001b[1;33m\u001b[0m\u001b[0m\n\u001b[0m\u001b[0;32m      2\u001b[0m \u001b[0ms\u001b[0m\u001b[1;33m.\u001b[0m\u001b[0mprintName\u001b[0m\u001b[1;33m(\u001b[0m\u001b[1;33m)\u001b[0m\u001b[1;33m\u001b[0m\u001b[1;33m\u001b[0m\u001b[0m\n\u001b[0;32m      3\u001b[0m \u001b[0ms\u001b[0m\u001b[1;33m.\u001b[0m\u001b[0mgetSpec\u001b[0m\u001b[1;33m(\u001b[0m\u001b[1;33m)\u001b[0m\u001b[1;33m\u001b[0m\u001b[1;33m\u001b[0m\u001b[0m\n",
      "\u001b[1;31mNameError\u001b[0m: name 'Student' is not defined"
     ]
    }
   ],
   "source": [
    "s=Student(\"Arek\",21,\"Math\")\n",
    "s.printName()\n",
    "s.getSpec()"
   ]
  }
 ],
 "metadata": {
  "kernelspec": {
   "display_name": "Python 3",
   "language": "python",
   "name": "python3"
  },
  "language_info": {
   "codemirror_mode": {
    "name": "ipython",
    "version": 3
   },
   "file_extension": ".py",
   "mimetype": "text/x-python",
   "name": "python",
   "nbconvert_exporter": "python",
   "pygments_lexer": "ipython3",
   "version": "3.8.8"
  }
 },
 "nbformat": 4,
 "nbformat_minor": 5
}
