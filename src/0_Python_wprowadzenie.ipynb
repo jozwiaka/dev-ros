{
 "cells": [
  {
   "cell_type": "markdown",
   "metadata": {},
   "source": [
    "# Zmienne"
   ]
  },
  {
   "cell_type": "code",
   "execution_count": 1,
   "metadata": {},
   "outputs": [
    {
     "name": "stdout",
     "output_type": "stream",
     "text": [
      "Hello world\n"
     ]
    }
   ],
   "source": [
    "# Wyświetlanie tekstu\n",
    "print(\"Hello world\")"
   ]
  },
  {
   "cell_type": "code",
   "execution_count": 2,
   "metadata": {
    "scrolled": true
   },
   "outputs": [
    {
     "name": "stdout",
     "output_type": "stream",
     "text": [
      "jakis tekst to jest nowa zmienna\n"
     ]
    }
   ],
   "source": [
    "# Tworzenie zmiennych\n",
    "# Liczba całkowita\n",
    "zmienna = 2\n",
    "\n",
    "# Liczba rzeczywista\n",
    "rzeczywista = 4.5\n",
    "rzeczywista = float(34)\n",
    "rzeczywista = 34.0\n",
    "\n",
    "# typu string\n",
    "zmiennaTekstowa1 = \"jakis tekst\"\n",
    "zmiennaTekstowa2 = \"to jest nowa zmienna\"\n",
    "\n",
    "# Łączenie i wyświetlanie tekstu\n",
    "print(zmiennaTekstowa1 + \" \" + zmiennaTekstowa2)"
   ]
  },
  {
   "cell_type": "code",
   "execution_count": 3,
   "metadata": {},
   "outputs": [
    {
     "ename": "TypeError",
     "evalue": "unsupported operand type(s) for +: 'int' and 'str'",
     "output_type": "error",
     "traceback": [
      "\u001b[0;31m---------------------------------------------------------------------------\u001b[0m",
      "\u001b[0;31mTypeError\u001b[0m                                 Traceback (most recent call last)",
      "\u001b[0;32m<ipython-input-3-f6dc02bee53d>\u001b[0m in \u001b[0;36m<module>\u001b[0;34m\u001b[0m\n\u001b[1;32m      1\u001b[0m \u001b[0;31m# Nie można bezpośrednio łączyć zmiennnych tekstowych i liczbowych\u001b[0m\u001b[0;34m\u001b[0m\u001b[0;34m\u001b[0m\u001b[0;34m\u001b[0m\u001b[0m\n\u001b[0;32m----> 2\u001b[0;31m \u001b[0mprint\u001b[0m\u001b[0;34m(\u001b[0m\u001b[0mzmienna\u001b[0m \u001b[0;34m+\u001b[0m \u001b[0mzmiennaTekstowa1\u001b[0m\u001b[0;34m)\u001b[0m\u001b[0;34m\u001b[0m\u001b[0;34m\u001b[0m\u001b[0m\n\u001b[0m",
      "\u001b[0;31mTypeError\u001b[0m: unsupported operand type(s) for +: 'int' and 'str'"
     ]
    }
   ],
   "source": [
    "# Nie można bezpośrednio łączyć zmiennnych tekstowych i liczbowych\n",
    "print(zmienna + zmiennaTekstowa1)"
   ]
  },
  {
   "cell_type": "code",
   "execution_count": 4,
   "metadata": {},
   "outputs": [],
   "source": [
    "# Operacje na obiektach\n",
    "# Dostępne są podobnie jak w innych językach operatory:\n",
    "# dodawania(+), odejmowania(-), mnożenia(*), dzielenia(/), operacji modulo(%)\n",
    "# Podnoszenie do potęgi\n",
    "kwadrat = 3**2\n",
    "szescian = 6**3"
   ]
  },
  {
   "cell_type": "markdown",
   "metadata": {},
   "source": [
    "# Tablice"
   ]
  },
  {
   "cell_type": "code",
   "execution_count": 5,
   "metadata": {},
   "outputs": [],
   "source": [
    "# Tworzenie tablic\n",
    "tablica = []\n",
    "# dodawanie nowych wartości do tablicy\n",
    "tablica.append(23.2)\n",
    "tablica.append(12.3)\n",
    "tablica.append(4)"
   ]
  },
  {
   "cell_type": "code",
   "execution_count": 6,
   "metadata": {},
   "outputs": [
    {
     "name": "stdout",
     "output_type": "stream",
     "text": [
      "<class 'int'>\n",
      "<class 'float'>\n",
      "<class 'str'>\n",
      "<class 'list'>\n"
     ]
    }
   ],
   "source": [
    "# Sprawdzenie typu zmiennej\n",
    "print(type(zmienna))\n",
    "print(type(rzeczywista))\n",
    "print(type(zmiennaTekstowa1))\n",
    "print(type(tablica))"
   ]
  },
  {
   "cell_type": "code",
   "execution_count": 7,
   "metadata": {},
   "outputs": [
    {
     "name": "stdout",
     "output_type": "stream",
     "text": [
      "3\n",
      "Kolejne wartosci elementow tablicy:\n",
      "23.2\n",
      "12.3\n",
      "4\n"
     ]
    }
   ],
   "source": [
    "# Sprawdzenie długości tablicy\n",
    "print(len(tablica))\n",
    "\n",
    "#Wyświetlanie kolejnych wartości z tablicy\n",
    "print(\"Kolejne wartosci elementow tablicy:\")\n",
    "print(tablica[0])\n",
    "print(tablica[1])\n",
    "print(tablica[2])"
   ]
  },
  {
   "cell_type": "code",
   "execution_count": 8,
   "metadata": {},
   "outputs": [
    {
     "name": "stdout",
     "output_type": "stream",
     "text": [
      "Kolejne elementy tablicy: 23.2, 12.3, 4\n",
      "Liczba: 23.2 typ <class 'float'>\n",
      "Liczba: 12.3 typ <class 'float'>\n",
      "Liczba: 4 typ <class 'int'>\n"
     ]
    }
   ],
   "source": [
    "# Inny sposob na wyswietlenie kolejnych elementow tablicy poprzez konwersje elementow na string\n",
    "print(\"Kolejne elementy tablicy: \" + str(tablica[0]) + \", \" + str(tablica[1]) + \", \" + str(tablica[2]))\n",
    "\n",
    "# Wyswietlenie elementu i jego typu\n",
    "print(\"Liczba: \" + str(tablica[0]) + \" typ \" + str(type(tablica[0])))\n",
    "print(\"Liczba: \" + str(tablica[1]) + \" typ \" + str(type(tablica[1])))\n",
    "print(\"Liczba: \" + str(tablica[2]) + \" typ \" + str(type(tablica[2])))"
   ]
  },
  {
   "cell_type": "markdown",
   "metadata": {},
   "source": [
    "# Formatowanie tekstu i obsługa napisów"
   ]
  },
  {
   "cell_type": "code",
   "execution_count": 10,
   "metadata": {},
   "outputs": [],
   "source": [
    "# Łączenie napisów\n",
    "tekst = \"witaj\" + \" \" + \"swiecie\""
   ]
  },
  {
   "cell_type": "code",
   "execution_count": 11,
   "metadata": {},
   "outputs": [
    {
     "name": "stdout",
     "output_type": "stream",
     "text": [
      "witaj witaj witaj witaj witaj witaj witaj witaj witaj witaj \n"
     ]
    }
   ],
   "source": [
    "# Operacja \"mnożenia\" napisów pozwala na wygenerowanie powtarzających się sekwencji danego napisu\n",
    "witaj = \"witaj \" * 10\n",
    "print(witaj)"
   ]
  },
  {
   "cell_type": "code",
   "execution_count": 12,
   "metadata": {},
   "outputs": [
    {
     "name": "stdout",
     "output_type": "stream",
     "text": [
      "Tablice o powtarzajacym sie ciagu elementow\n",
      "[4, 5, 4, 5, 4, 5, 4, 5]\n"
     ]
    }
   ],
   "source": [
    "print(\"Tablice o powtarzajacym sie ciagu elementow\")\n",
    "print([4,5] * 4)"
   ]
  },
  {
   "cell_type": "code",
   "execution_count": 13,
   "metadata": {},
   "outputs": [
    {
     "name": "stdout",
     "output_type": "stream",
     "text": [
      "Kolejne elementy tablicy: 23.200000, 12.3, 4\n",
      "Elementy tablicy 23.200000 oraz jego typ <class 'float'>\n",
      "Elementy tablicy 23.200000 oraz jego typ <class 'float'>\n",
      "\n",
      "Element tablicy 23.200000\n",
      "Element tablicy 23.200000\n",
      "\n",
      "Element tablicy 23.2\n",
      "Element tablicy 23.2\n"
     ]
    }
   ],
   "source": [
    "# Podstawowe specyfikatory do formatowania napisów\n",
    "#  %s - napis lub każdy inny obiekt mający reprezentację w formie napisu\n",
    "#  %d - liczby całkowite\n",
    "#  %f - liczby rzeczywiste\n",
    "#  %.<ilosc cyfr> - liczba zmienno przecinkowa ze stała liczbą cyfr po kropce\n",
    "\n",
    "# Dla większej liczby wyświetlanych zmiennych, zminne powinny znaleźć się po znaku % w nawiasie\n",
    "print(\"Kolejne elementy tablicy: %f, %.1f, %d\" % (tablica[0], tablica[1], tablica[2]))\n",
    "print(\"Elementy tablicy %f oraz jego typ %s\" % (tablica[0], type(tablica[0])))\n",
    "print(\"Elementy tablicy {:f} oraz jego typ {}\".format(tablica[0], type(tablica[0])))\n",
    "print()\n",
    "# Dla pojedynczej zmiennej nie ma konieczności umieszczania jej w nawiasie\n",
    "print(\"Element tablicy %f\" % tablica[0])\n",
    "print(\"Element tablicy {:f}\".format(tablica[0]))\n",
    "print()\n",
    "# Ograniczenie wyświetlania liczb znajdujacych się po przecinku przy wyświetlaniu\n",
    "print(\"Element tablicy %.1f\" % tablica[0])\n",
    "print(\"Element tablicy {:.1f}\".format(tablica[0]))"
   ]
  },
  {
   "cell_type": "code",
   "execution_count": 14,
   "metadata": {},
   "outputs": [
    {
     "name": "stdout",
     "output_type": "stream",
     "text": [
      "16\n",
      "index: 1\n"
     ]
    }
   ],
   "source": [
    "# Sprawdzenie liczby przechowywanych znaków w zmiennej tekstowej. Podobnie jak dla tablic wykorzystywana jest \n",
    "# funkcja len(nazwa_zmiennej)\n",
    "tekst = \"abcdabeg cdadbcn\"\n",
    "print(len(tekst))\n",
    "\n",
    "# zwrócenie pierwszego występującego indeksu danego znaku lub ciąg znaków\n",
    "index =  tekst.index(\"bc\")\n",
    "print(\"index: %d\" % index)"
   ]
  },
  {
   "cell_type": "code",
   "execution_count": 15,
   "metadata": {},
   "outputs": [
    {
     "name": "stdout",
     "output_type": "stream",
     "text": [
      "Liczba wystepujacych ciagow znakow 'bc': 2\n"
     ]
    }
   ],
   "source": [
    "# Zliczenie liczby występujących znaków lub ciąg znaków\n",
    "print(\"Liczba wystepujacych ciagow znakow 'bc': %s\" % tekst.count(\"bc\"))"
   ]
  },
  {
   "cell_type": "code",
   "execution_count": 16,
   "metadata": {},
   "outputs": [
    {
     "name": "stdout",
     "output_type": "stream",
     "text": [
      "b\n"
     ]
    }
   ],
   "source": [
    "# Dostęp do pojedynczego znaku\n",
    "print(tekst[1])"
   ]
  },
  {
   "cell_type": "code",
   "execution_count": 17,
   "metadata": {},
   "outputs": [
    {
     "name": "stdout",
     "output_type": "stream",
     "text": [
      "cda\n"
     ]
    }
   ],
   "source": [
    "# Dostep do fragmentu tekstu znajdujacego sie pomiędzy wskazanymi indeksami\n",
    "print(tekst[2:5])"
   ]
  },
  {
   "cell_type": "code",
   "execution_count": 18,
   "metadata": {},
   "outputs": [
    {
     "name": "stdout",
     "output_type": "stream",
     "text": [
      "abcda\n",
      "abcda\n"
     ]
    }
   ],
   "source": [
    "# Wyswietlenie calego napisu od początku do wskazanego indeksu znaku\n",
    "print(tekst[0:5])\n",
    "print(tekst[:5])"
   ]
  },
  {
   "cell_type": "code",
   "execution_count": 19,
   "metadata": {},
   "outputs": [
    {
     "name": "stdout",
     "output_type": "stream",
     "text": [
      "beg cdadbcn\n",
      "beg cdadbcn\n"
     ]
    }
   ],
   "source": [
    "# Wyświetlenie całego napisu od wskazanego znaku do końca tekstu\n",
    "print(tekst[5:len(tekst)])\n",
    "print(tekst[5:])"
   ]
  },
  {
   "cell_type": "code",
   "execution_count": 20,
   "metadata": {},
   "outputs": [
    {
     "name": "stdout",
     "output_type": "stream",
     "text": [
      "n\n",
      "ad\n",
      "adbcn\n",
      "abcdabeg cd\n"
     ]
    }
   ],
   "source": [
    "# Można również liczyć i wyświetlać znaki od końca. W tym celu podaje się ujemne wartości indeksów\n",
    "print(tekst[-1])    # Wyswietlenie ostatniego znaku\n",
    "print(tekst[-5:-3]) # Wyswietlenie znaków pomiędzy 5 (włącznie) pozycja od końca a 3 (włącznie)\n",
    "print(tekst[-5:])   # Wyswietlenie znaków od 5 (włącznie) pozycji od końca do samego konca\n",
    "print(tekst[:-5])   # Wyświetlenie wszystkich znaków od początk do 5 znaku od końca (pomijany jest 5 znak od końca)"
   ]
  },
  {
   "cell_type": "code",
   "execution_count": 21,
   "metadata": {},
   "outputs": [
    {
     "name": "stdout",
     "output_type": "stream",
     "text": [
      "ABCDABEG CDADBCN\n",
      "abcdabeg cdadbcn\n"
     ]
    }
   ],
   "source": [
    "# Zamiana wszystkich liter na duże lub małe\n",
    "print(tekst.upper())\n",
    "print(tekst.lower())"
   ]
  },
  {
   "cell_type": "code",
   "execution_count": 22,
   "metadata": {},
   "outputs": [
    {
     "name": "stdout",
     "output_type": "stream",
     "text": [
      "False\n",
      "True\n",
      "False\n",
      "True\n"
     ]
    }
   ],
   "source": [
    "# Sprawdzenie czy napis zaczyna sie lub konczy od podanego ciagu znakow\n",
    "print(tekst.startswith(\"cda\"))\n",
    "print(tekst.startswith(\"abc\"))\n",
    "print(tekst.endswith(\"abeg\"))\n",
    "print(tekst.endswith(\"dbcn\"))"
   ]
  },
  {
   "cell_type": "code",
   "execution_count": 23,
   "metadata": {},
   "outputs": [
    {
     "name": "stdout",
     "output_type": "stream",
     "text": [
      "['abcdabeg', 'cdadbcn']\n"
     ]
    }
   ],
   "source": [
    "# Rozdzielanie napisu i zapisywanie go w tablicy np. w poniższym przykładzie spacja \n",
    "# odpowiada za rozdzielenie tekstu\n",
    "tablica_rozdzielona = tekst.split(\" \")\n",
    "print(tablica_rozdzielona)"
   ]
  },
  {
   "cell_type": "markdown",
   "metadata": {},
   "source": [
    "# Instrukcje warunkowe"
   ]
  },
  {
   "cell_type": "code",
   "execution_count": 24,
   "metadata": {},
   "outputs": [
    {
     "name": "stdout",
     "output_type": "stream",
     "text": [
      "a == 4  True\n",
      "a != 4  False\n",
      "a == 5  False\n",
      "a > 1   True\n",
      "not a == 4  False\n"
     ]
    }
   ],
   "source": [
    "a = 4\n",
    "b = 7\n",
    "print(\"a == 4  \" + str(a == 4)) # True\n",
    "print(\"a != 4  \" + str(a != 4)) # False\n",
    "print(\"a == 5  \" + str(a == 5)) # False\n",
    "print(\"a > 1   \" + str(a > 1))  # True\n",
    "#zmiana wartości wyrażenia na przeciwną\n",
    "print(\"not a == 4  \"+ str(not a == 4))"
   ]
  },
  {
   "cell_type": "code",
   "execution_count": 25,
   "metadata": {},
   "outputs": [
    {
     "name": "stdout",
     "output_type": "stream",
     "text": [
      "a == 4 and b > 3   True\n",
      "a == 2 or b > 2    True\n"
     ]
    }
   ],
   "source": [
    "# Dostępne są róznież operatory logiczne and, or\n",
    "print(\"a == 4 and b > 3   \" + str(a == 4 and b > 3)) #True\n",
    "print(\"a == 2 or b > 2    \" + str(a == 2 or b > 2))  #True"
   ]
  },
  {
   "cell_type": "code",
   "execution_count": 26,
   "metadata": {},
   "outputs": [
    {
     "name": "stdout",
     "output_type": "stream",
     "text": [
      "True\n",
      "False\n"
     ]
    }
   ],
   "source": [
    "# Do sprawdzenia czy podany operator znajduje się w tablicy służy operator in\n",
    "tablica = [\"abc\", \"def\", \"ghi\"]\n",
    "print(\"def\" in tablica)  # true\n",
    "print(\"test\" in tablica) # false"
   ]
  },
  {
   "cell_type": "code",
   "execution_count": 27,
   "metadata": {},
   "outputs": [
    {
     "name": "stdout",
     "output_type": "stream",
     "text": [
      "x == tablica2[1]  True\n",
      "x is tablica2[1]  True\n",
      "x is tablica2     False\n"
     ]
    }
   ],
   "source": [
    "# Do sprawdzenia czy zmienne wskazują na ten sam obszar w pamięci służy operator is\n",
    "x = [5, 3, 3]\n",
    "y = [2, 6, 3]\n",
    "\n",
    "tablica2 = [4, x, y]\n",
    "\n",
    "print(\"x == tablica2[1]  \" + str(x == tablica2[1]))  # True\n",
    "print(\"x is tablica2[1]  \" + str(x is tablica2[1]))  # True\n",
    "print(\"x is tablica2     \" + str(x is tablica2))     # False"
   ]
  },
  {
   "cell_type": "code",
   "execution_count": null,
   "metadata": {},
   "outputs": [],
   "source": [
    "# Instrukcja warunkowa if - składnia\n",
    "if wyrazenie:\n",
    "    jakas_akcja\n",
    "elif wyrazenie2:\n",
    "    jakas_inna_akcja\n",
    "else:\n",
    "    jakas_jeszcze_inna_akcja"
   ]
  },
  {
   "cell_type": "code",
   "execution_count": 28,
   "metadata": {},
   "outputs": [
    {
     "name": "stdout",
     "output_type": "stream",
     "text": [
      "zmienna a jest mniejsza od 5\n"
     ]
    }
   ],
   "source": [
    "# Przykład użycia\n",
    "a = 3\n",
    "if a == 5:\n",
    "    print(\"zmienna a jest rowna 5\")\n",
    "elif a > 5:\n",
    "    print(\"zmienna a jest wieksza od 5\")\n",
    "else:\n",
    "    print(\"zmienna a jest mniejsza od 5\")"
   ]
  },
  {
   "cell_type": "markdown",
   "metadata": {},
   "source": [
    "# Pętle"
   ]
  },
  {
   "cell_type": "code",
   "execution_count": 29,
   "metadata": {},
   "outputs": [
    {
     "name": "stdout",
     "output_type": "stream",
     "text": [
      "4\n",
      "2\n",
      "6\n",
      "4\n",
      "6\n"
     ]
    }
   ],
   "source": [
    "# for - pętla wykonuje się przez określoną liczbę iteracji\n",
    "liczby = [4, 2, 6, 4, 6]\n",
    "\n",
    "for liczba in liczby: \n",
    "# liczba - zmienna w której przechowywany jest każdy kolejny element tablicy liczby\n",
    "# pętla wykonuje się dopóki nie zostaną wyświetlone wszystkie elementy z tablicy\n",
    "    print(liczba)"
   ]
  },
  {
   "cell_type": "code",
   "execution_count": 30,
   "metadata": {},
   "outputs": [
    {
     "name": "stdout",
     "output_type": "stream",
     "text": [
      "0\n",
      "1\n",
      "2\n",
      "3\n",
      "4\n"
     ]
    }
   ],
   "source": [
    "# Liczby z wykorzystaniem instrukcji xrange mogą również zaweierać się w określonym przedziale\n",
    "for i in range(5):\n",
    "    print(i)"
   ]
  },
  {
   "cell_type": "code",
   "execution_count": 31,
   "metadata": {},
   "outputs": [
    {
     "name": "stdout",
     "output_type": "stream",
     "text": [
      "0\n",
      "1\n",
      "2\n",
      "3\n",
      "4\n"
     ]
    }
   ],
   "source": [
    "# while - pętla wykonuje się dopóki pewien warunek jest spełniony\n",
    "i = 0\n",
    "while i < 5:\n",
    "    print(i)\n",
    "    i += 1"
   ]
  },
  {
   "cell_type": "code",
   "execution_count": 32,
   "metadata": {},
   "outputs": [
    {
     "name": "stdout",
     "output_type": "stream",
     "text": [
      "0\n",
      "1\n",
      "2\n",
      "3\n"
     ]
    }
   ],
   "source": [
    "# instrukcja break używana jest do zakończenia działania pętli for i while\n",
    "i = 0\n",
    "while True:\n",
    "    print(i) # , powoduje, że kolejne elementy wyświetlane są dalej w linii, a nie nowym wierszu\n",
    "    i += 1\n",
    "    if i >= 3:\n",
    "        break\n",
    "\n",
    "print(i)"
   ]
  },
  {
   "cell_type": "code",
   "execution_count": 33,
   "metadata": {},
   "outputs": [
    {
     "name": "stdout",
     "output_type": "stream",
     "text": [
      "0\n",
      "2\n",
      "4\n",
      "6\n",
      "8\n",
      "10\n",
      "12\n",
      "14\n",
      "16\n",
      "18\n",
      "20\n",
      "22\n",
      "24\n",
      "26\n",
      "28\n"
     ]
    }
   ],
   "source": [
    "# instukcja continue odpowiada za opuszczenie instrukcji znajdujących się poniżej i wraca do wykonywania\n",
    "# kodu znajdującego sie od początku pętli\n",
    "# Poniższa instrukcja wypisze tylko liczby parzyste\n",
    "for x in range(30):\n",
    "    # Sprawdz, czy x jest nieparzyste\n",
    "    if x % 2 != 0:\n",
    "        continue\n",
    "    print(x)"
   ]
  },
  {
   "cell_type": "markdown",
   "metadata": {},
   "source": [
    "# Funkcje"
   ]
  },
  {
   "cell_type": "code",
   "execution_count": null,
   "metadata": {},
   "outputs": [],
   "source": [
    "# Składnia\n",
    "def nazwa_funkcji():\n",
    "    kod programu\n",
    "\n",
    "def nazwa_funkcji(argument1, argument2, ...):\n",
    "    kod programu\n",
    "    \n",
    "def nazwa_funkcji():\n",
    "    kod programu\n",
    "    return wartosc #funkcja zwraca jakąś wartość zapisaną w kodzie programu"
   ]
  },
  {
   "cell_type": "code",
   "execution_count": 34,
   "metadata": {},
   "outputs": [],
   "source": [
    "# Przykładowa funkcja wyświetlająca informację czy dana liczba jest podzielna przez 3\n",
    "def podzielna_przez_3(liczba):\n",
    "    if (liczba % 3) == 0:\n",
    "        print(\"Podana liczba: {:d}, jest podczielna przez 3\".format(liczba))\n",
    "    else:\n",
    "        print(\"Podana liczba: {:d}, nie jest podczielna przez 3\".format(liczba))"
   ]
  },
  {
   "cell_type": "code",
   "execution_count": 35,
   "metadata": {},
   "outputs": [
    {
     "name": "stdout",
     "output_type": "stream",
     "text": [
      "Podana liczba: 6, jest podczielna przez 3\n",
      "Podana liczba: 2, nie jest podczielna przez 3\n"
     ]
    }
   ],
   "source": [
    "# Wywołanie funkcji\n",
    "podzielna_przez_3(6)\n",
    "podzielna_przez_3(2)"
   ]
  },
  {
   "cell_type": "markdown",
   "metadata": {},
   "source": [
    "# Importowanie modułów"
   ]
  },
  {
   "cell_type": "code",
   "execution_count": 36,
   "metadata": {},
   "outputs": [],
   "source": [
    "# importowanie biblioteki\n",
    "import math"
   ]
  },
  {
   "cell_type": "code",
   "execution_count": 37,
   "metadata": {},
   "outputs": [
    {
     "data": {
      "text/plain": [
       "['__doc__',\n",
       " '__loader__',\n",
       " '__name__',\n",
       " '__package__',\n",
       " '__spec__',\n",
       " 'acos',\n",
       " 'acosh',\n",
       " 'asin',\n",
       " 'asinh',\n",
       " 'atan',\n",
       " 'atan2',\n",
       " 'atanh',\n",
       " 'ceil',\n",
       " 'comb',\n",
       " 'copysign',\n",
       " 'cos',\n",
       " 'cosh',\n",
       " 'degrees',\n",
       " 'dist',\n",
       " 'e',\n",
       " 'erf',\n",
       " 'erfc',\n",
       " 'exp',\n",
       " 'expm1',\n",
       " 'fabs',\n",
       " 'factorial',\n",
       " 'floor',\n",
       " 'fmod',\n",
       " 'frexp',\n",
       " 'fsum',\n",
       " 'gamma',\n",
       " 'gcd',\n",
       " 'hypot',\n",
       " 'inf',\n",
       " 'isclose',\n",
       " 'isfinite',\n",
       " 'isinf',\n",
       " 'isnan',\n",
       " 'isqrt',\n",
       " 'ldexp',\n",
       " 'lgamma',\n",
       " 'log',\n",
       " 'log10',\n",
       " 'log1p',\n",
       " 'log2',\n",
       " 'modf',\n",
       " 'nan',\n",
       " 'perm',\n",
       " 'pi',\n",
       " 'pow',\n",
       " 'prod',\n",
       " 'radians',\n",
       " 'remainder',\n",
       " 'sin',\n",
       " 'sinh',\n",
       " 'sqrt',\n",
       " 'tan',\n",
       " 'tanh',\n",
       " 'tau',\n",
       " 'trunc']"
      ]
     },
     "execution_count": 37,
     "metadata": {},
     "output_type": "execute_result"
    }
   ],
   "source": [
    "# Wyświetlenie wszystkich dostępnych funkcji dla modułu math\n",
    "dir(math)"
   ]
  },
  {
   "cell_type": "code",
   "execution_count": 38,
   "metadata": {},
   "outputs": [
    {
     "name": "stdout",
     "output_type": "stream",
     "text": [
      "Help on built-in function log in module math:\n",
      "\n",
      "log(...)\n",
      "    log(x, [base=math.e])\n",
      "    Return the logarithm of x to the given base.\n",
      "    \n",
      "    If the base not specified, returns the natural logarithm (base e) of x.\n",
      "\n"
     ]
    }
   ],
   "source": [
    "# Wyświetlanie pomocy do funkcji z biblioteki\n",
    "help(math.log)"
   ]
  },
  {
   "cell_type": "code",
   "execution_count": 52,
   "metadata": {},
   "outputs": [],
   "source": [
    "class Robot:\n",
    "    def __init__(self, name, x, y):\n",
    "        # inicjalizacja klasy\n",
    "        self.name = name\n",
    "        self.x = x\n",
    "        self.y = y\n",
    "        \n",
    "    def print_pose_info(self):\n",
    "        print(\"Pose x={:f}, y={:f}\".format(self.x, self.y))\n",
    "    \n",
    "    def move_right(self):\n",
    "        self.x += 1\n",
    "        \n",
    "    def move_left(self):\n",
    "        self.x -= 1\n",
    "        \n",
    "    def move_up(self):\n",
    "        self.y += 1\n",
    "        \n",
    "    def move_down(self):\n",
    "        self.y -= 1\n",
    "        \n",
    "    def get_distance_to_start(self):\n",
    "        # metoda zwraca odległość robota od startu (0,0)\n",
    "        return math.sqrt(self.x*self.x + self.y+self.y)"
   ]
  },
  {
   "cell_type": "code",
   "execution_count": 53,
   "metadata": {},
   "outputs": [],
   "source": [
    "# Inicjalizacja klas Robot\n",
    "robot1 = Robot(\"r1\", 0, 0)\n",
    "robot2 = Robot(\"r2\", 5, 2)"
   ]
  },
  {
   "cell_type": "code",
   "execution_count": 54,
   "metadata": {},
   "outputs": [
    {
     "data": {
      "text/plain": [
       "'r2'"
      ]
     },
     "execution_count": 54,
     "metadata": {},
     "output_type": "execute_result"
    }
   ],
   "source": [
    "# Odczyt wartości atrybutu klasy\n",
    "robot2.name"
   ]
  },
  {
   "cell_type": "code",
   "execution_count": 58,
   "metadata": {},
   "outputs": [
    {
     "name": "stdout",
     "output_type": "stream",
     "text": [
      "Pose x=7.000000, y=2.000000\n"
     ]
    }
   ],
   "source": [
    "# Użycie metody klasy\n",
    "robot2.move_right()\n",
    "robot2.print_pose_info()"
   ]
  },
  {
   "cell_type": "code",
   "execution_count": 57,
   "metadata": {},
   "outputs": [
    {
     "name": "stdout",
     "output_type": "stream",
     "text": [
      "Distance to start:  6.324555320336759\n"
     ]
    }
   ],
   "source": [
    "# Użycie metody zwracającej jakąś wartość\n",
    "dist_to_start= robot2.get_distance_to_start()\n",
    "print(\"Distance to start: \", dist_to_start)"
   ]
  },
  {
   "cell_type": "code",
   "execution_count": 45,
   "metadata": {},
   "outputs": [
    {
     "name": "stdout",
     "output_type": "stream",
     "text": [
      "Pose x=1.000000, y=0.000000\n",
      "Pose x=2.000000, y=0.000000\n"
     ]
    }
   ],
   "source": [
    "robot1.print_pose_info()\n",
    "robot1.move_right()\n",
    "robot1.print_pose_info()"
   ]
  },
  {
   "cell_type": "code",
   "execution_count": null,
   "metadata": {},
   "outputs": [],
   "source": []
  }
 ],
 "metadata": {
  "kernelspec": {
   "display_name": "Python 3",
   "language": "python",
   "name": "python3"
  },
  "language_info": {
   "codemirror_mode": {
    "name": "ipython",
    "version": 3
   },
   "file_extension": ".py",
   "mimetype": "text/x-python",
   "name": "python",
   "nbconvert_exporter": "python",
   "pygments_lexer": "ipython3",
   "version": "3.8.5"
  }
 },
 "nbformat": 4,
 "nbformat_minor": 2
}
