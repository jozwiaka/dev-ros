{
 "cells": [
  {
   "cell_type": "markdown",
   "metadata": {},
   "source": [
    "# ROS Parameter Server"
   ]
  },
  {
   "cell_type": "markdown",
   "metadata": {},
   "source": [
    "- The ROS Parameter Server can store strings, integers, floats, booleans, lists, dictionaries, iso8601 dates, and base64-encoded data. Dictionaries must have string keys."
   ]
  },
  {
   "cell_type": "markdown",
   "metadata": {},
   "source": [
    "# 1) Lista dostępnych parametrów"
   ]
  },
  {
   "cell_type": "code",
   "execution_count": 1,
   "metadata": {},
   "outputs": [
    {
     "data": {
      "text/plain": [
       "['/run_id',\n",
       " '/roslaunch/uris/host_localhost__43645',\n",
       " '/rosversion',\n",
       " '/rosdistro',\n",
       " '/turtlesim/background_r',\n",
       " '/turtlesim/background_g',\n",
       " '/turtlesim/background_b']"
      ]
     },
     "execution_count": 1,
     "metadata": {},
     "output_type": "execute_result"
    }
   ],
   "source": [
    "import rospy\n",
    "rospy.get_param_names()"
   ]
  },
  {
   "cell_type": "markdown",
   "metadata": {},
   "source": [
    "# 2) Odczyt wartości parametru"
   ]
  },
  {
   "cell_type": "code",
   "execution_count": 3,
   "metadata": {},
   "outputs": [
    {
     "name": "stdout",
     "output_type": "stream",
     "text": [
      "69\n",
      "86\n",
      "255\n"
     ]
    }
   ],
   "source": [
    "print(rospy.get_param(\"turtlesim/background_r\"))\n",
    "print(rospy.get_param(\"turtlesim/background_g\"))\n",
    "print(rospy.get_param(\"turtlesim/background_b\"))"
   ]
  },
  {
   "cell_type": "markdown",
   "metadata": {},
   "source": [
    "# 3) Ustawienie nowych wartości parametrów tła"
   ]
  },
  {
   "cell_type": "code",
   "execution_count": 4,
   "metadata": {},
   "outputs": [],
   "source": [
    "rospy.set_param(\"turtlesim/background_r\", 255)\n",
    "rospy.set_param(\"turtlesim/background_g\", 0)\n",
    "rospy.set_param(\"turtlesim/background_b\", 0)"
   ]
  },
  {
   "cell_type": "markdown",
   "metadata": {},
   "source": [
    "### Uwaga:\n",
    "- Aby wprowadzone zmiany były widoczne należy wywołać dodatkowo serwis */clear*"
   ]
  },
  {
   "cell_type": "code",
   "execution_count": 5,
   "metadata": {},
   "outputs": [
    {
     "name": "stdout",
     "output_type": "stream",
     "text": [
      "\r\n"
     ]
    }
   ],
   "source": [
    "!rosservice call /clear"
   ]
  },
  {
   "cell_type": "markdown",
   "metadata": {},
   "source": [
    "# 4) Ustawianie kilku różnych parametrów w określonej przestrzeni nazw."
   ]
  },
  {
   "cell_type": "markdown",
   "metadata": {},
   "source": [
    "- Na przykładzie kolorów RGB tła można by ustawić je w przestrzeni nazw **color** i zgrupować razem.\n",
    "- Takie ustawienie parametrów nie będzie miało wpływu na środowisko symulacyjne, gdyż nie są one obsługiwane."
   ]
  },
  {
   "cell_type": "markdown",
   "metadata": {},
   "source": [
    "### Wersja 1"
   ]
  },
  {
   "cell_type": "code",
   "execution_count": 6,
   "metadata": {},
   "outputs": [],
   "source": [
    "grupa = \"color\"\n",
    "rospy.set_param(grupa+\"/r\", 41)\n",
    "rospy.set_param(grupa+\"/g\", 231)\n",
    "rospy.set_param(grupa+\"/b\", 0)"
   ]
  },
  {
   "cell_type": "code",
   "execution_count": 7,
   "metadata": {},
   "outputs": [
    {
     "data": {
      "text/plain": [
       "['/run_id',\n",
       " '/roslaunch/uris/host_localhost__46703',\n",
       " '/rosversion',\n",
       " '/rosdistro',\n",
       " '/turtlesim/background_r',\n",
       " '/turtlesim/background_g',\n",
       " '/turtlesim/background_b',\n",
       " '/color/r',\n",
       " '/color/g',\n",
       " '/color/b']"
      ]
     },
     "execution_count": 7,
     "metadata": {},
     "output_type": "execute_result"
    }
   ],
   "source": [
    "rospy.get_param_names()"
   ]
  },
  {
   "cell_type": "markdown",
   "metadata": {},
   "source": [
    "- Umożliwia nam wyświetlenie parametrów z określonej grupy. \n",
    "- Na wyjściu get_param otrzymujemy słownik z wartościami parametrów w przestrzeni nazw:"
   ]
  },
  {
   "cell_type": "code",
   "execution_count": 8,
   "metadata": {},
   "outputs": [
    {
     "data": {
      "text/plain": [
       "{'r': 41, 'g': 231, 'b': 0}"
      ]
     },
     "execution_count": 8,
     "metadata": {},
     "output_type": "execute_result"
    }
   ],
   "source": [
    "rospy.get_param(\"color\")"
   ]
  },
  {
   "cell_type": "markdown",
   "metadata": {},
   "source": [
    "### Wersja 2 - Parametry przekazywane jako słownik"
   ]
  },
  {
   "cell_type": "code",
   "execution_count": 9,
   "metadata": {},
   "outputs": [
    {
     "data": {
      "text/plain": [
       "{'r': 133, 'g': 43, 'b': 25}"
      ]
     },
     "execution_count": 9,
     "metadata": {},
     "output_type": "execute_result"
    }
   ],
   "source": [
    "rospy.set_param(\"color2\", {\"r\": 133, \"g\":43, \"b\":25})\n",
    "rospy.get_param(\"color2\")"
   ]
  },
  {
   "cell_type": "code",
   "execution_count": 10,
   "metadata": {},
   "outputs": [
    {
     "data": {
      "text/plain": [
       "['/run_id',\n",
       " '/roslaunch/uris/host_localhost__46703',\n",
       " '/rosversion',\n",
       " '/rosdistro',\n",
       " '/turtlesim/background_r',\n",
       " '/turtlesim/background_g',\n",
       " '/turtlesim/background_b',\n",
       " '/color/r',\n",
       " '/color/g',\n",
       " '/color/b',\n",
       " '/color2/r',\n",
       " '/color2/g',\n",
       " '/color2/b']"
      ]
     },
     "execution_count": 10,
     "metadata": {},
     "output_type": "execute_result"
    }
   ],
   "source": [
    "rospy.get_param_names()"
   ]
  },
  {
   "cell_type": "markdown",
   "metadata": {},
   "source": [
    "# 5) Usuwanie parametrów \n",
    "- Usunięcie pojedynczego parametru:"
   ]
  },
  {
   "cell_type": "code",
   "execution_count": null,
   "metadata": {},
   "outputs": [],
   "source": [
    "rospy.delete_param(\"/color2/r\")\n",
    "rospy.get_param_names()"
   ]
  },
  {
   "cell_type": "markdown",
   "metadata": {},
   "source": [
    "- Usunięcie wszystkich parametrów:"
   ]
  },
  {
   "cell_type": "code",
   "execution_count": null,
   "metadata": {},
   "outputs": [],
   "source": [
    "rospy.delete_param(\"/color2/\")\n",
    "rospy.get_param_names()"
   ]
  },
  {
   "cell_type": "markdown",
   "metadata": {},
   "source": [
    "# 6) Zadania\n",
    "\n",
    "#### Zadanie 1\n",
    "Napisać funkcję, która będzie generwała parametry dla robota o podanej nazwie. Parametry powinny być tak wygenerowane, aby znajdowały się w przestrzeni nazw robota o podanej w argumencie nazwie. Parametry pojawiające się w tej przestrzeni powinny odpowiadać: maksymalnej dopuszczalnej prędkości postępowej, obrotowej, trybu pracy (auto/manual). Można dopisać jakieś własne parametry."
   ]
  },
  {
   "cell_type": "code",
   "execution_count": 23,
   "metadata": {},
   "outputs": [],
   "source": [
    "def set_params(name):\n",
    "    rospy.set_param(name+\"/maks_predkosc_postepowa\", 10)\n",
    "    rospy.set_param(name+\"/maks_predkosc_obrotowa\",5)\n",
    "    rospy.set_param(name+\"/tryb_pracy\",\"auto\")\n",
    "    return rospy.get_param(name)"
   ]
  },
  {
   "cell_type": "code",
   "execution_count": 24,
   "metadata": {},
   "outputs": [
    {
     "data": {
      "text/plain": [
       "{'maks_predkosc_postepowa': 10,\n",
       " 'maks_predkosc_obrotowa': 5,\n",
       " 'tryb_pracy': 'auto'}"
      ]
     },
     "execution_count": 24,
     "metadata": {},
     "output_type": "execute_result"
    }
   ],
   "source": [
    "set_params('turtle1')"
   ]
  },
  {
   "cell_type": "code",
   "execution_count": 17,
   "metadata": {},
   "outputs": [],
   "source": [
    "try:\n",
    "    wazny_parametr = rospy.get_param(\"fff\")\n",
    "except KeyError:\n",
    "    wazny_parametr = \"domyslna_wartosc\""
   ]
  },
  {
   "cell_type": "markdown",
   "metadata": {},
   "source": [
    "#### Zadanie 2\n",
    "1. Skopiować klasę Robot z zajęć o serwisach wraz z importem odpowiednich bibliotek. Rozbudować ją o napisaną w poprzednim zadaniu funkcję. Podczas inicjalizacji klasy Robot powinny się również pojawić parametry robota.  Funkcja jako metoda klasy powinna mieć jako pierwszy argument self wskazujący na klasę.\n",
    "\n",
    "2. Dopisać metodę do wyświetlania parametrów robota z jego przestrzeni nazw.\n",
    "3. Uzupełnić metodę **unregistered** o usuwanie wszystkich parametrów robota.\n",
    "4. Dodać do klasy serwis od usuwania robota. (Serwis /kill)\n",
    "5. Utworzyć metodę do wyświetlania listy parametrów robota. Odczytać parametry z przestrzeni nazw i wyświetlić."
   ]
  },
  {
   "cell_type": "code",
   "execution_count": 2,
   "metadata": {},
   "outputs": [],
   "source": [
    "import rospy\n",
    "from turtlesim.srv import Spawn\n",
    "from turtlesim.msg import Pose\n",
    "from geometry_msgs.msg import Twist\n",
    "from pkg_tsr.srv import Task\n",
    "import math\n",
    "from turtlesim.srv import Kill\n",
    "\n",
    "rospy.init_node(\"serwis_node_test\")\n",
    "\n",
    "class Robot:\n",
    "    def __init__(self, name, x, y):\n",
    "        self.name = name\n",
    "        self.pose = Pose()\n",
    "        create_new_turtle = rospy.ServiceProxy('spawn', Spawn)\n",
    "        create_new_turtle(x, y, 0, name)\n",
    "        \n",
    "        self.velocity_pub = rospy.Publisher(name+'/cmd_vel', Twist, queue_size=10)\n",
    "        self.pose_sub = rospy.Subscriber(name+'/pose',Pose, self.callback_pose)\n",
    "        self.follow_service = rospy.Service(name+'/go_to_goal', Task, self.go_to_goal)\n",
    "        \n",
    "        rospy.set_param(self.name+\"/maks_predkosc_postepowa\", 10)\n",
    "        rospy.set_param(self.name+\"/maks_predkosc_obrotowa\",5)\n",
    "        rospy.set_param(self.name+\"/tryb_pracy\",\"auto\")\n",
    "        \n",
    "        self.kill_service = rospy.ServiceProxy('kill',Kill)\n",
    "        \n",
    "    def get_params(self):\n",
    "        try:\n",
    "            return rospy.get_param(self.name)\n",
    "        except KeyError:\n",
    "            print(\"Brak parametrow\")\n",
    "    \n",
    "    def go_to_goal(self, msg_srv):\n",
    "        max_speed = 0.3\n",
    "        omega=0.2\n",
    "        tolerance = 0.05\n",
    "        \n",
    "        #polozenie celu\n",
    "        x_c=msg_srv.x\n",
    "        y_c=msg_srv.y\n",
    "        \n",
    "        msg_vel=Twist()\n",
    "        \n",
    "        while True:\n",
    "            #polozenie robota\n",
    "            x=self.pose.x\n",
    "            y=self.pose.y\n",
    "            theta=self.pose.theta\n",
    "            \n",
    "            msg_vel.linear.x=max_speed\n",
    "            if math.atan2(y_c-y,x_c-x)!=theta:\n",
    "                if theta<math.atan2(y_c-y,x_c-x):\n",
    "                    msg_vel.angular.z=omega\n",
    "                else:\n",
    "                    msg_vel.angular.z=-omega\n",
    "            else:\n",
    "                msg_vel.angular.z=0\n",
    "            if math.sqrt((x_c-x)**2+(y_c-y)**2)<tolerance: \n",
    "                return \"finished\"\n",
    "            self.velocity_pub.publish(msg_vel)\n",
    "    \n",
    "    def callback_pose(self, pose_msg):\n",
    "        self.pose=pose_msg\n",
    "    def unregister(self):\n",
    "        self.follow_service.shutdown()\n",
    "        rospy.delete_param(\"/\"+self.name+\"/\")\n",
    "    \n",
    "    def kill(self):\n",
    "        self.kill_service(self.name)\n",
    "        self.unregister()"
   ]
  },
  {
   "cell_type": "code",
   "execution_count": 3,
   "metadata": {},
   "outputs": [
    {
     "name": "stdout",
     "output_type": "stream",
     "text": [
      "\r\n"
     ]
    }
   ],
   "source": [
    "!rosservice call reset"
   ]
  },
  {
   "cell_type": "code",
   "execution_count": 75,
   "metadata": {},
   "outputs": [],
   "source": [
    "new_robot.unregister()"
   ]
  },
  {
   "cell_type": "code",
   "execution_count": 4,
   "metadata": {},
   "outputs": [],
   "source": [
    "new_robot=Robot('Delmiak',4,5)"
   ]
  },
  {
   "cell_type": "code",
   "execution_count": 7,
   "metadata": {},
   "outputs": [
    {
     "name": "stdout",
     "output_type": "stream",
     "text": [
      "Brak parametrow\n",
      "shutdown request: [/serwis_node_test] Reason: new node registered with same name\n"
     ]
    }
   ],
   "source": [
    "new_robot.get_params()"
   ]
  },
  {
   "cell_type": "code",
   "execution_count": 6,
   "metadata": {},
   "outputs": [],
   "source": [
    "new_robot.kill()"
   ]
  }
 ],
 "metadata": {
  "kernelspec": {
   "display_name": "Python 3",
   "language": "python",
   "name": "python3"
  },
  "language_info": {
   "codemirror_mode": {
    "name": "ipython",
    "version": 3
   },
   "file_extension": ".py",
   "mimetype": "text/x-python",
   "name": "python",
   "nbconvert_exporter": "python",
   "pygments_lexer": "ipython3",
   "version": "3.8.5"
  }
 },
 "nbformat": 4,
 "nbformat_minor": 4
}